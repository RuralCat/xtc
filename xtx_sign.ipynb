{
 "cells": [
  {
   "cell_type": "code",
   "execution_count": 1,
   "metadata": {},
   "outputs": [],
   "source": [
    "%load_ext autoreload\n",
    "%autoreload 2\n",
    "import warnings\n",
    "warnings.filterwarnings(\"ignore\")"
   ]
  },
  {
   "cell_type": "code",
   "execution_count": 98,
   "metadata": {},
   "outputs": [],
   "source": [
    "import numpy as np\n",
    "import matplotlib.pyplot as plt\n",
    "import seaborn as sns\n",
    "\n",
    "from keras.utils import to_categorical\n",
    "from keras.optimizers import Adam\n",
    "from keras.losses import categorical_crossentropy\n",
    "from keras.callbacks import ModelCheckpoint, EarlyStopping, ReduceLROnPlateau\n",
    "from sklearn.metrics import mean_squared_error\n",
    "\n",
    "import pickle\n",
    "import copy\n",
    "import pandas as pd\n",
    "import warnings\n",
    "\n",
    "import dataset as dt\n",
    "from xtx_model import simple_model, simple_cnn, simple_mlp, get_weight_grad, rate_size_fusion\n",
    "from main import tf_score, score, model_score\n",
    "import normlization as dt_norm"
   ]
  },
  {
   "cell_type": "markdown",
   "metadata": {},
   "source": [
    "# 0"
   ]
  },
  {
   "cell_type": "code",
   "execution_count": 3,
   "metadata": {},
   "outputs": [],
   "source": [
    "raw_data = dt.load_raw_data()"
   ]
  },
  {
   "cell_type": "code",
   "execution_count": 40,
   "metadata": {},
   "outputs": [],
   "source": [
    "features, y = raw_data[:, :60], raw_data[:, 60]\n",
    "ask_rate, ask_size, bid_rate, bid_size = features[:, :15], features[:, 15:30], features[:, 30:45], features[:, 45:60]\n",
    "sign_y = np.sign(y)"
   ]
  },
  {
   "cell_type": "code",
   "execution_count": 92,
   "metadata": {},
   "outputs": [
    {
     "data": {
      "text/plain": [
       "0.02246941289320148"
      ]
     },
     "execution_count": 92,
     "metadata": {},
     "output_type": "execute_result"
    }
   ],
   "source": [
    "pred_sign = np.copy(sign_y)\n",
    "rand_sign = np.random.rand(len(sign_y))\n",
    "rand_sign[rand_sign >= 0.25] = 1\n",
    "rand_sign[rand_sign < 0.25] = -1\n",
    "\n",
    "pred_sign = pred_sign * rand_sign\n",
    "pred_sign[pred_sign == 0] = 1\n",
    "\n",
    "score(y, pred_sign*0.5)"
   ]
  },
  {
   "cell_type": "code",
   "execution_count": 93,
   "metadata": {},
   "outputs": [
    {
     "data": {
      "text/plain": [
       "'we need the accuracy of trend prediction has 76% at least! '"
      ]
     },
     "execution_count": 93,
     "metadata": {},
     "output_type": "execute_result"
    }
   ],
   "source": [
    "\"\"\"we need the accuracy of trend prediction has 76% at least! \"\"\""
   ]
  },
  {
   "cell_type": "markdown",
   "metadata": {},
   "source": [
    "## sample balance"
   ]
  },
  {
   "cell_type": "code",
   "execution_count": 111,
   "metadata": {},
   "outputs": [],
   "source": [
    "window_size = 120\n",
    "time_step = 120\n",
    "normed_data = dt_norm.slide_norm(features, window_size=window_size)\n",
    "tx, ty = dt.data_sliding(normed_data, y, time_step=time_step)"
   ]
  },
  {
   "cell_type": "code",
   "execution_count": 113,
   "metadata": {},
   "outputs": [],
   "source": [
    "nonzero_tx = np.copy(tx[ty != 0])\n",
    "nonzero_ty = np.copy(ty[ty != 0])"
   ]
  },
  {
   "cell_type": "code",
   "execution_count": 117,
   "metadata": {},
   "outputs": [],
   "source": [
    "nonzero_ty = np.copy(ty[ty != 0])\n",
    "nonzero_sign_ty = np.sign(nonzero_ty)\n",
    "nonzero_sign_ty[nonzero_sign_ty == -1] = 0"
   ]
  },
  {
   "cell_type": "code",
   "execution_count": 131,
   "metadata": {},
   "outputs": [
    {
     "name": "stdout",
     "output_type": "stream",
     "text": [
      "train:331307, val:47329, test:94660\n"
     ]
    }
   ],
   "source": [
    "trains, vals, tests = dt.split_data([nonzero_tx, nonzero_sign_ty, np.abs(nonzero_ty)], split=[0.7, 0.1, 0.2], sampling=5)"
   ]
  },
  {
   "cell_type": "code",
   "execution_count": 161,
   "metadata": {},
   "outputs": [],
   "source": [
    "reg = False\n",
    "mlp_model = simple_mlp(time_step=120, regression=reg)\n",
    "loss = 'categorical_crossentropy' if not reg else tf_score\n",
    "mlp_model.compile(Adam(2e-4), loss=loss, metrics=['accuracy'])"
   ]
  },
  {
   "cell_type": "code",
   "execution_count": 162,
   "metadata": {},
   "outputs": [
    {
     "name": "stdout",
     "output_type": "stream",
     "text": [
      "Train on 331307 samples, validate on 47329 samples\n",
      "Epoch 1/20\n",
      "331307/331307 [==============================] - 32s 98us/step - loss: 0.9063 - acc: 0.5024 - val_loss: 0.6938 - val_acc: 0.5051\n",
      "Epoch 2/20\n",
      "331307/331307 [==============================] - 30s 91us/step - loss: 0.7125 - acc: 0.5015 - val_loss: 0.6929 - val_acc: 0.5059\n",
      "Epoch 3/20\n",
      "331307/331307 [==============================] - 30s 91us/step - loss: 0.6970 - acc: 0.5057 - val_loss: 0.6927 - val_acc: 0.5105\n",
      "Epoch 4/20\n",
      "331307/331307 [==============================] - 30s 91us/step - loss: 0.6941 - acc: 0.5108 - val_loss: 0.6921 - val_acc: 0.5225\n",
      "Epoch 5/20\n",
      "331307/331307 [==============================] - 30s 91us/step - loss: 0.6931 - acc: 0.5162 - val_loss: 0.6922 - val_acc: 0.5118\n",
      "Epoch 6/20\n",
      "331307/331307 [==============================] - 30s 91us/step - loss: 0.6918 - acc: 0.5242 - val_loss: 0.6902 - val_acc: 0.5280\n",
      "Epoch 7/20\n",
      "331307/331307 [==============================] - 30s 91us/step - loss: 0.6904 - acc: 0.5321 - val_loss: 0.6882 - val_acc: 0.5398\n",
      "Epoch 8/20\n",
      "331307/331307 [==============================] - 30s 92us/step - loss: 0.6886 - acc: 0.5397 - val_loss: 0.6882 - val_acc: 0.5378\n",
      "Epoch 9/20\n",
      "331307/331307 [==============================] - 30s 92us/step - loss: 0.6869 - acc: 0.5454 - val_loss: 0.6870 - val_acc: 0.5411\n",
      "Epoch 10/20\n",
      "331307/331307 [==============================] - 30s 91us/step - loss: 0.6850 - acc: 0.5517 - val_loss: 0.6870 - val_acc: 0.5454\n",
      "Epoch 11/20\n",
      "331307/331307 [==============================] - 30s 91us/step - loss: 0.6824 - acc: 0.5585 - val_loss: 0.6867 - val_acc: 0.5428\n",
      "Epoch 12/20\n",
      "331307/331307 [==============================] - 30s 90us/step - loss: 0.6802 - acc: 0.5639 - val_loss: 0.6875 - val_acc: 0.5399\n",
      "Epoch 13/20\n",
      "331307/331307 [==============================] - 30s 91us/step - loss: 0.6780 - acc: 0.5697 - val_loss: 0.6861 - val_acc: 0.5434\n",
      "Epoch 14/20\n",
      "331307/331307 [==============================] - 30s 91us/step - loss: 0.6753 - acc: 0.5750 - val_loss: 0.6857 - val_acc: 0.5458\n",
      "Epoch 15/20\n",
      "331307/331307 [==============================] - 30s 91us/step - loss: 0.6727 - acc: 0.5800 - val_loss: 0.6858 - val_acc: 0.5496\n",
      "Epoch 16/20\n",
      "331307/331307 [==============================] - 31s 92us/step - loss: 0.6699 - acc: 0.5859 - val_loss: 0.6857 - val_acc: 0.5478\n",
      "Epoch 17/20\n",
      "331307/331307 [==============================] - 30s 91us/step - loss: 0.6669 - acc: 0.5892 - val_loss: 0.6878 - val_acc: 0.5388\n",
      "Epoch 18/20\n",
      "331307/331307 [==============================] - 30s 91us/step - loss: 0.6642 - acc: 0.5948 - val_loss: 0.6871 - val_acc: 0.5417\n",
      "Epoch 19/20\n",
      "331307/331307 [==============================] - 30s 91us/step - loss: 0.6606 - acc: 0.5995 - val_loss: 0.6880 - val_acc: 0.5384\n",
      "Epoch 20/20\n",
      "331307/331307 [==============================] - 30s 92us/step - loss: 0.6570 - acc: 0.6047 - val_loss: 0.6898 - val_acc: 0.5401\n"
     ]
    },
    {
     "data": {
      "text/plain": [
       "<keras.callbacks.History at 0x2b71dd27fd0>"
      ]
     },
     "execution_count": 162,
     "metadata": {},
     "output_type": "execute_result"
    }
   ],
   "source": [
    "mlp_model.fit(trains[0], to_categorical(trains[1]),\n",
    "              batch_size=256, epochs=20, \n",
    "              validation_data=(vals[0], to_categorical(vals[1])))"
   ]
  },
  {
   "cell_type": "code",
   "execution_count": null,
   "metadata": {},
   "outputs": [],
   "source": []
  },
  {
   "cell_type": "code",
   "execution_count": 168,
   "metadata": {},
   "outputs": [],
   "source": [
    "reg = False\n",
    "rnn_model = simple_model(time_step=120, regression=reg)\n",
    "loss = 'categorical_crossentropy' if not reg else tf_score\n",
    "rnn_model.compile(Adam(2e-4), loss=loss, metrics=['accuracy'])"
   ]
  },
  {
   "cell_type": "code",
   "execution_count": 167,
   "metadata": {},
   "outputs": [
    {
     "name": "stdout",
     "output_type": "stream",
     "text": [
      "Train on 331307 samples, validate on 47329 samples\n",
      "Epoch 1/20\n",
      "331307/331307 [==============================] - 408s 1ms/step - loss: 0.9121 - acc: 0.5403 - val_loss: 0.7380 - val_acc: 0.5681\n",
      "Epoch 2/20\n",
      "331307/331307 [==============================] - 407s 1ms/step - loss: 0.7118 - acc: 0.5531 - val_loss: 0.6927 - val_acc: 0.5655\n",
      "Epoch 3/20\n",
      "331307/331307 [==============================] - 406s 1ms/step - loss: 0.6923 - acc: 0.5555 - val_loss: 0.6852 - val_acc: 0.5716\n",
      "Epoch 4/20\n",
      "331307/331307 [==============================] - 408s 1ms/step - loss: 0.6884 - acc: 0.5576 - val_loss: 0.6834 - val_acc: 0.5693\n",
      "Epoch 5/20\n",
      "331307/331307 [==============================] - 408s 1ms/step - loss: 0.6870 - acc: 0.5580 - val_loss: 0.6831 - val_acc: 0.5697\n",
      "Epoch 6/20\n",
      "331307/331307 [==============================] - 412s 1ms/step - loss: 0.6864 - acc: 0.5577 - val_loss: 0.6804 - val_acc: 0.5747\n",
      "Epoch 7/20\n",
      "331307/331307 [==============================] - 412s 1ms/step - loss: 0.6859 - acc: 0.5582 - val_loss: 0.6798 - val_acc: 0.5767\n",
      "Epoch 8/20\n",
      "331307/331307 [==============================] - 411s 1ms/step - loss: 0.6858 - acc: 0.5586 - val_loss: 0.6811 - val_acc: 0.5705\n",
      "Epoch 9/20\n",
      "331307/331307 [==============================] - 413s 1ms/step - loss: 0.6853 - acc: 0.5595 - val_loss: 0.6822 - val_acc: 0.5729\n",
      "Epoch 10/20\n",
      "331307/331307 [==============================] - 413s 1ms/step - loss: 0.6849 - acc: 0.5601 - val_loss: 0.6799 - val_acc: 0.5766\n",
      "Epoch 11/20\n",
      "113920/331307 [=========>....................] - ETA: 4:16 - loss: 0.6842 - acc: 0.5634"
     ]
    },
    {
     "ename": "KeyboardInterrupt",
     "evalue": "",
     "output_type": "error",
     "traceback": [
      "\u001b[1;31m---------------------------------------------------------------------------\u001b[0m",
      "\u001b[1;31mKeyboardInterrupt\u001b[0m                         Traceback (most recent call last)",
      "\u001b[1;32m<ipython-input-167-45c643fa17eb>\u001b[0m in \u001b[0;36m<module>\u001b[1;34m\u001b[0m\n\u001b[0;32m      1\u001b[0m rnn_model.fit(trains[0], to_categorical(trains[1]), batch_size=256, epochs=20, \n\u001b[1;32m----> 2\u001b[1;33m               validation_data=(vals[0], to_categorical(vals[1])))\n\u001b[0m",
      "\u001b[1;32m~\\Anaconda3\\lib\\site-packages\\keras-2.2.4-py3.6.egg\\keras\\engine\\training.py\u001b[0m in \u001b[0;36mfit\u001b[1;34m(self, x, y, batch_size, epochs, verbose, callbacks, validation_split, validation_data, shuffle, class_weight, sample_weight, initial_epoch, steps_per_epoch, validation_steps, **kwargs)\u001b[0m\n\u001b[0;32m   1038\u001b[0m                                         \u001b[0minitial_epoch\u001b[0m\u001b[1;33m=\u001b[0m\u001b[0minitial_epoch\u001b[0m\u001b[1;33m,\u001b[0m\u001b[1;33m\u001b[0m\u001b[0m\n\u001b[0;32m   1039\u001b[0m                                         \u001b[0msteps_per_epoch\u001b[0m\u001b[1;33m=\u001b[0m\u001b[0msteps_per_epoch\u001b[0m\u001b[1;33m,\u001b[0m\u001b[1;33m\u001b[0m\u001b[0m\n\u001b[1;32m-> 1040\u001b[1;33m                                         validation_steps=validation_steps)\n\u001b[0m\u001b[0;32m   1041\u001b[0m \u001b[1;33m\u001b[0m\u001b[0m\n\u001b[0;32m   1042\u001b[0m     def evaluate(self, x=None, y=None,\n",
      "\u001b[1;32m~\\Anaconda3\\lib\\site-packages\\keras-2.2.4-py3.6.egg\\keras\\engine\\training_arrays.py\u001b[0m in \u001b[0;36mfit_loop\u001b[1;34m(model, fit_function, fit_inputs, out_labels, batch_size, epochs, verbose, callbacks, val_function, val_inputs, shuffle, callback_metrics, initial_epoch, steps_per_epoch, validation_steps)\u001b[0m\n\u001b[0;32m    198\u001b[0m                     \u001b[0mins_batch\u001b[0m\u001b[1;33m[\u001b[0m\u001b[0mi\u001b[0m\u001b[1;33m]\u001b[0m \u001b[1;33m=\u001b[0m \u001b[0mins_batch\u001b[0m\u001b[1;33m[\u001b[0m\u001b[0mi\u001b[0m\u001b[1;33m]\u001b[0m\u001b[1;33m.\u001b[0m\u001b[0mtoarray\u001b[0m\u001b[1;33m(\u001b[0m\u001b[1;33m)\u001b[0m\u001b[1;33m\u001b[0m\u001b[0m\n\u001b[0;32m    199\u001b[0m \u001b[1;33m\u001b[0m\u001b[0m\n\u001b[1;32m--> 200\u001b[1;33m                 \u001b[0mouts\u001b[0m \u001b[1;33m=\u001b[0m \u001b[0mfit_function\u001b[0m\u001b[1;33m(\u001b[0m\u001b[0mins_batch\u001b[0m\u001b[1;33m)\u001b[0m\u001b[1;33m\u001b[0m\u001b[0m\n\u001b[0m\u001b[0;32m    201\u001b[0m                 \u001b[0mouts\u001b[0m \u001b[1;33m=\u001b[0m \u001b[0mto_list\u001b[0m\u001b[1;33m(\u001b[0m\u001b[0mouts\u001b[0m\u001b[1;33m)\u001b[0m\u001b[1;33m\u001b[0m\u001b[0m\n\u001b[0;32m    202\u001b[0m                 \u001b[1;32mfor\u001b[0m \u001b[0ml\u001b[0m\u001b[1;33m,\u001b[0m \u001b[0mo\u001b[0m \u001b[1;32min\u001b[0m \u001b[0mzip\u001b[0m\u001b[1;33m(\u001b[0m\u001b[0mout_labels\u001b[0m\u001b[1;33m,\u001b[0m \u001b[0mouts\u001b[0m\u001b[1;33m)\u001b[0m\u001b[1;33m:\u001b[0m\u001b[1;33m\u001b[0m\u001b[0m\n",
      "\u001b[1;32m~\\Anaconda3\\lib\\site-packages\\keras-2.2.4-py3.6.egg\\keras\\backend\\tensorflow_backend.py\u001b[0m in \u001b[0;36m__call__\u001b[1;34m(self, inputs)\u001b[0m\n\u001b[0;32m   2826\u001b[0m                     \u001b[1;32mreturn\u001b[0m \u001b[0mself\u001b[0m\u001b[1;33m.\u001b[0m\u001b[0m_legacy_call\u001b[0m\u001b[1;33m(\u001b[0m\u001b[0minputs\u001b[0m\u001b[1;33m)\u001b[0m\u001b[1;33m\u001b[0m\u001b[0m\n\u001b[0;32m   2827\u001b[0m \u001b[1;33m\u001b[0m\u001b[0m\n\u001b[1;32m-> 2828\u001b[1;33m             \u001b[1;32mreturn\u001b[0m \u001b[0mself\u001b[0m\u001b[1;33m.\u001b[0m\u001b[0m_call\u001b[0m\u001b[1;33m(\u001b[0m\u001b[0minputs\u001b[0m\u001b[1;33m)\u001b[0m\u001b[1;33m\u001b[0m\u001b[0m\n\u001b[0m\u001b[0;32m   2829\u001b[0m         \u001b[1;32melse\u001b[0m\u001b[1;33m:\u001b[0m\u001b[1;33m\u001b[0m\u001b[0m\n\u001b[0;32m   2830\u001b[0m             \u001b[1;32mif\u001b[0m \u001b[0mpy_any\u001b[0m\u001b[1;33m(\u001b[0m\u001b[0mis_tensor\u001b[0m\u001b[1;33m(\u001b[0m\u001b[0mx\u001b[0m\u001b[1;33m)\u001b[0m \u001b[1;32mfor\u001b[0m \u001b[0mx\u001b[0m \u001b[1;32min\u001b[0m \u001b[0minputs\u001b[0m\u001b[1;33m)\u001b[0m\u001b[1;33m:\u001b[0m\u001b[1;33m\u001b[0m\u001b[0m\n",
      "\u001b[1;32m~\\Anaconda3\\lib\\site-packages\\keras-2.2.4-py3.6.egg\\keras\\backend\\tensorflow_backend.py\u001b[0m in \u001b[0;36m_call\u001b[1;34m(self, inputs)\u001b[0m\n\u001b[0;32m   2784\u001b[0m             \u001b[0mfetched\u001b[0m \u001b[1;33m=\u001b[0m \u001b[0mself\u001b[0m\u001b[1;33m.\u001b[0m\u001b[0m_callable_fn\u001b[0m\u001b[1;33m(\u001b[0m\u001b[1;33m*\u001b[0m\u001b[0marray_vals\u001b[0m\u001b[1;33m,\u001b[0m \u001b[0mrun_metadata\u001b[0m\u001b[1;33m=\u001b[0m\u001b[0mself\u001b[0m\u001b[1;33m.\u001b[0m\u001b[0mrun_metadata\u001b[0m\u001b[1;33m)\u001b[0m\u001b[1;33m\u001b[0m\u001b[0m\n\u001b[0;32m   2785\u001b[0m         \u001b[1;32melse\u001b[0m\u001b[1;33m:\u001b[0m\u001b[1;33m\u001b[0m\u001b[0m\n\u001b[1;32m-> 2786\u001b[1;33m             \u001b[0mfetched\u001b[0m \u001b[1;33m=\u001b[0m \u001b[0mself\u001b[0m\u001b[1;33m.\u001b[0m\u001b[0m_callable_fn\u001b[0m\u001b[1;33m(\u001b[0m\u001b[1;33m*\u001b[0m\u001b[0marray_vals\u001b[0m\u001b[1;33m)\u001b[0m\u001b[1;33m\u001b[0m\u001b[0m\n\u001b[0m\u001b[0;32m   2787\u001b[0m         \u001b[1;32mreturn\u001b[0m \u001b[0mfetched\u001b[0m\u001b[1;33m[\u001b[0m\u001b[1;33m:\u001b[0m\u001b[0mlen\u001b[0m\u001b[1;33m(\u001b[0m\u001b[0mself\u001b[0m\u001b[1;33m.\u001b[0m\u001b[0moutputs\u001b[0m\u001b[1;33m)\u001b[0m\u001b[1;33m]\u001b[0m\u001b[1;33m\u001b[0m\u001b[0m\n\u001b[0;32m   2788\u001b[0m \u001b[1;33m\u001b[0m\u001b[0m\n",
      "\u001b[1;32m~\\Anaconda3\\lib\\site-packages\\tensorflow\\python\\client\\session.py\u001b[0m in \u001b[0;36m__call__\u001b[1;34m(self, *args, **kwargs)\u001b[0m\n\u001b[0;32m   1437\u001b[0m           ret = tf_session.TF_SessionRunCallable(\n\u001b[0;32m   1438\u001b[0m               \u001b[0mself\u001b[0m\u001b[1;33m.\u001b[0m\u001b[0m_session\u001b[0m\u001b[1;33m.\u001b[0m\u001b[0m_session\u001b[0m\u001b[1;33m,\u001b[0m \u001b[0mself\u001b[0m\u001b[1;33m.\u001b[0m\u001b[0m_handle\u001b[0m\u001b[1;33m,\u001b[0m \u001b[0margs\u001b[0m\u001b[1;33m,\u001b[0m \u001b[0mstatus\u001b[0m\u001b[1;33m,\u001b[0m\u001b[1;33m\u001b[0m\u001b[0m\n\u001b[1;32m-> 1439\u001b[1;33m               run_metadata_ptr)\n\u001b[0m\u001b[0;32m   1440\u001b[0m         \u001b[1;32mif\u001b[0m \u001b[0mrun_metadata\u001b[0m\u001b[1;33m:\u001b[0m\u001b[1;33m\u001b[0m\u001b[0m\n\u001b[0;32m   1441\u001b[0m           \u001b[0mproto_data\u001b[0m \u001b[1;33m=\u001b[0m \u001b[0mtf_session\u001b[0m\u001b[1;33m.\u001b[0m\u001b[0mTF_GetBuffer\u001b[0m\u001b[1;33m(\u001b[0m\u001b[0mrun_metadata_ptr\u001b[0m\u001b[1;33m)\u001b[0m\u001b[1;33m\u001b[0m\u001b[0m\n",
      "\u001b[1;31mKeyboardInterrupt\u001b[0m: "
     ]
    }
   ],
   "source": [
    "rnn_model.fit(trains[0], to_categorical(trains[1]), batch_size=256, epochs=20, \n",
    "              validation_data=(vals[0], to_categorical(vals[1])))"
   ]
  },
  {
   "cell_type": "code",
   "execution_count": 169,
   "metadata": {},
   "outputs": [
    {
     "name": "stdout",
     "output_type": "stream",
     "text": [
      "Train on 331307 samples, validate on 47329 samples\n",
      "Epoch 1/20\n",
      "331307/331307 [==============================] - 435s 1ms/step - loss: 0.9719 - acc: 0.5443 - val_loss: 0.7194 - val_acc: 0.5611\n",
      "Epoch 2/20\n",
      "331307/331307 [==============================] - 431s 1ms/step - loss: 0.7012 - acc: 0.5554 - val_loss: 0.6857 - val_acc: 0.5740\n",
      "Epoch 3/20\n",
      "331307/331307 [==============================] - 430s 1ms/step - loss: 0.6898 - acc: 0.5564 - val_loss: 0.6833 - val_acc: 0.5714\n",
      "Epoch 4/20\n",
      "331307/331307 [==============================] - 430s 1ms/step - loss: 0.6874 - acc: 0.5581 - val_loss: 0.6818 - val_acc: 0.5714\n",
      "Epoch 5/20\n",
      "331307/331307 [==============================] - 430s 1ms/step - loss: 0.6863 - acc: 0.5578 - val_loss: 0.6846 - val_acc: 0.5620\n",
      "Epoch 6/20\n",
      "331307/331307 [==============================] - 430s 1ms/step - loss: 0.6858 - acc: 0.5590 - val_loss: 0.6824 - val_acc: 0.5678\n",
      "Epoch 7/20\n",
      "331307/331307 [==============================] - 430s 1ms/step - loss: 0.6855 - acc: 0.5602 - val_loss: 0.6795 - val_acc: 0.5755\n",
      "Epoch 8/20\n",
      "331307/331307 [==============================] - 429s 1ms/step - loss: 0.6851 - acc: 0.5607 - val_loss: 0.6832 - val_acc: 0.5643\n",
      "Epoch 9/20\n",
      "331307/331307 [==============================] - 430s 1ms/step - loss: 0.6850 - acc: 0.5603 - val_loss: 0.6807 - val_acc: 0.5707\n",
      "Epoch 10/20\n",
      "331307/331307 [==============================] - 431s 1ms/step - loss: 0.6848 - acc: 0.5611 - val_loss: 0.6814 - val_acc: 0.5673\n",
      "Epoch 11/20\n",
      "331307/331307 [==============================] - 431s 1ms/step - loss: 0.6845 - acc: 0.5610 - val_loss: 0.6820 - val_acc: 0.5672\n",
      "Epoch 12/20\n",
      "331307/331307 [==============================] - 431s 1ms/step - loss: 0.6842 - acc: 0.5621 - val_loss: 0.6821 - val_acc: 0.5639\n",
      "Epoch 13/20\n",
      "331307/331307 [==============================] - 430s 1ms/step - loss: 0.6841 - acc: 0.5636 - val_loss: 0.6815 - val_acc: 0.5681\n",
      "Epoch 14/20\n",
      "331307/331307 [==============================] - 431s 1ms/step - loss: 0.6840 - acc: 0.5623 - val_loss: 0.6818 - val_acc: 0.5651\n",
      "Epoch 15/20\n",
      "331307/331307 [==============================] - 431s 1ms/step - loss: 0.6837 - acc: 0.5640 - val_loss: 0.6846 - val_acc: 0.5596\n",
      "Epoch 16/20\n",
      "331307/331307 [==============================] - 431s 1ms/step - loss: 0.6836 - acc: 0.5635 - val_loss: 0.6823 - val_acc: 0.5659\n",
      "Epoch 17/20\n",
      "331307/331307 [==============================] - 430s 1ms/step - loss: 0.6830 - acc: 0.5652 - val_loss: 0.6847 - val_acc: 0.5578\n",
      "Epoch 18/20\n",
      "331307/331307 [==============================] - 430s 1ms/step - loss: 0.6819 - acc: 0.5697 - val_loss: 0.6860 - val_acc: 0.5539\n",
      "Epoch 19/20\n",
      "331307/331307 [==============================] - 431s 1ms/step - loss: 0.6803 - acc: 0.5730 - val_loss: 0.6933 - val_acc: 0.5437\n",
      "Epoch 20/20\n",
      "331307/331307 [==============================] - 430s 1ms/step - loss: 0.6786 - acc: 0.5773 - val_loss: 0.6927 - val_acc: 0.5468\n"
     ]
    },
    {
     "data": {
      "text/plain": [
       "<keras.callbacks.History at 0x2b725955438>"
      ]
     },
     "execution_count": 169,
     "metadata": {},
     "output_type": "execute_result"
    }
   ],
   "source": [
    "rnn_model.fit(trains[0], to_categorical(trains[1]), batch_size=256, epochs=20, \n",
    "              validation_data=(vals[0], to_categorical(vals[1])))"
   ]
  },
  {
   "cell_type": "code",
   "execution_count": 170,
   "metadata": {},
   "outputs": [
    {
     "name": "stdout",
     "output_type": "stream",
     "text": [
      "94660/94660 [==============================] - 50s 533us/step\n"
     ]
    }
   ],
   "source": [
    "pred_train_y = rnn_model.predict(tests[0], batch_size=256, verbose=1)"
   ]
  },
  {
   "cell_type": "code",
   "execution_count": 181,
   "metadata": {},
   "outputs": [],
   "source": [
    "pred = np.argmax(pred_train_y, axis=1)\n",
    "pred[pred == 0] = -1"
   ]
  },
  {
   "cell_type": "code",
   "execution_count": 182,
   "metadata": {},
   "outputs": [],
   "source": [
    "test_y = np.copy(tests[2])\n",
    "test_y_sign = np.copy(tests[1])\n",
    "test_y_sign[test_y_sign == 0] = -1"
   ]
  },
  {
   "cell_type": "code",
   "execution_count": 185,
   "metadata": {},
   "outputs": [
    {
     "data": {
      "text/plain": [
       "-0.4116618945194397"
      ]
     },
     "execution_count": 185,
     "metadata": {},
     "output_type": "execute_result"
    }
   ],
   "source": [
    "score(test_y_sign*test_y, pred*0.5)"
   ]
  },
  {
   "cell_type": "markdown",
   "metadata": {},
   "source": [
    "## 1"
   ]
  },
  {
   "cell_type": "code",
   "execution_count": null,
   "metadata": {},
   "outputs": [],
   "source": [
    "time_step = 60\n",
    "(train_x, train_y), (val_x, val_y), (test_x, test_y) = dt.dataset_slide_norm(time_step=time_step, norm_window_size=60)"
   ]
  },
  {
   "cell_type": "code",
   "execution_count": null,
   "metadata": {},
   "outputs": [],
   "source": [
    "def rates_sizes_split(x):\n",
    "    nb = x.shape[0]\n",
    "    rates = np.concatenate([x[..., 0:15], x[..., 30:45]], axis=2)\n",
    "    sizes = np.concatenate([x[..., 15:30], x[..., 45:60]], axis=2)\n",
    "    \n",
    "    return [rates, sizes]"
   ]
  },
  {
   "cell_type": "code",
   "execution_count": null,
   "metadata": {},
   "outputs": [],
   "source": [
    "sign_model = rate_size_fusion(time_step=time_step)\n",
    "sign_model.compile(Adam(2e-4), loss='binary_crossentropy', metrics=['accuracy'])\n",
    "train_sign_y = np.sign(train_y+1e-3)\n",
    "train_sign_y[train_sign_y==-1] = 0\n",
    "val_sign_y = np.sign(val_y+1e-3)\n",
    "val_sign_y[val_sign_y==-1] = 0\n",
    "history = sign_model.fit(rates_sizes_split(train_x), train_sign_y, \n",
    "                    batch_size=512, epochs=20, \n",
    "                    validation_data=(rates_sizes_split(val_x), val_sign_y), \n",
    "                    callbacks=None)"
   ]
  },
  {
   "cell_type": "code",
   "execution_count": null,
   "metadata": {},
   "outputs": [],
   "source": [
    "train_pred_sign = sign_model.predict(rates_sizes_split(train_x), batch_size=512, verbose=1)\n",
    "np.sum(np.sign(train_pred_sign[:, 0]) == np.sign(train_y+1e-3)) / len(train_y)"
   ]
  },
  {
   "cell_type": "code",
   "execution_count": null,
   "metadata": {},
   "outputs": [],
   "source": [
    "pred_sign = np.sign(train_pred_sign[:, 0])"
   ]
  },
  {
   "cell_type": "code",
   "execution_count": null,
   "metadata": {},
   "outputs": [],
   "source": [
    "train_sign = np.sign(train_y)"
   ]
  },
  {
   "cell_type": "code",
   "execution_count": null,
   "metadata": {},
   "outputs": [],
   "source": [
    "print('label 1: {}'.format(np.sum(train_sign == 1)))\n",
    "a = np.sum(pred_sign[train_sign == 1] == 1)\n",
    "b = np.sum(pred_sign[train_sign == 1] == -1)\n",
    "print('prediction 1:{}, -1:{}:'.format(a, b))"
   ]
  },
  {
   "cell_type": "code",
   "execution_count": null,
   "metadata": {},
   "outputs": [],
   "source": [
    "print('label -1: {}'.format(np.sum(train_sign == -1)))\n",
    "a = np.sum(pred_sign[train_sign == -1] == 1)\n",
    "b = np.sum(pred_sign[train_sign == -1] == -1)\n",
    "print('prediction 1:{}, -1:{}:'.format(a, b))"
   ]
  },
  {
   "cell_type": "code",
   "execution_count": null,
   "metadata": {},
   "outputs": [],
   "source": [
    "print('label 0: {}'.format(np.sum(train_sign == 0)))\n",
    "a = np.sum(pred_sign[train_sign == 0] == 1)\n",
    "b = np.sum(pred_sign[train_sign == 0] == -1)\n",
    "print('prediction 1:{}, -1:{}:'.format(a, b))"
   ]
  },
  {
   "cell_type": "markdown",
   "metadata": {},
   "source": [
    "# 2"
   ]
  },
  {
   "cell_type": "code",
   "execution_count": 112,
   "metadata": {},
   "outputs": [],
   "source": [
    "def evaluate_precision(y, pred_sign):\n",
    "    y_sign = np.sign(y)\n",
    "    nb_valid = np.sum(y_sign != 0)\n",
    "#     print('valid:', nb_valid)\n",
    "    nb_zero = np.sum(y_sign == 0)\n",
    "#     print('zero:', nb_zero)\n",
    "    tp = np.sum(pred_sign[y_sign==1] == 1) + np.sum(pred_sign[y_sign==-1] == -1)\n",
    "#     print('tp:', tp)\n",
    "    return (tp+nb_zero) / (nb_valid+nb_zero)"
   ]
  },
  {
   "cell_type": "code",
   "execution_count": 12,
   "metadata": {},
   "outputs": [],
   "source": [
    "diff_sign = np.sign(np.diff(features[:, 0]))"
   ]
  },
  {
   "cell_type": "code",
   "execution_count": 35,
   "metadata": {},
   "outputs": [],
   "source": [
    "pred_sign = np.ones(len(y)) * -1\n",
    "delay = 11\n",
    "for i in range(delay, len(pred_sign)):\n",
    "    pred_sign[i] = -diff_sign[i - delay] if diff_sign[i-delay] != 0 else pred_sign[i-1]"
   ]
  },
  {
   "cell_type": "code",
   "execution_count": 36,
   "metadata": {},
   "outputs": [
    {
     "data": {
      "text/plain": [
       "0.49804633773363344"
      ]
     },
     "execution_count": 36,
     "metadata": {},
     "output_type": "execute_result"
    }
   ],
   "source": [
    "evaluate_precision(y, pred_sign)"
   ]
  },
  {
   "cell_type": "code",
   "execution_count": 44,
   "metadata": {},
   "outputs": [
    {
     "data": {
      "text/plain": [
       "array([ 0.,  0.,  0.,  1.,  0.,  0.,  0.,  0.,  0.,  0.,  0.,  0.,  0.,\n",
       "        0.,  0.,  0.,  0.,  0.,  0.,  0.,  0.,  0.,  0.,  0.,  0.,  0.,\n",
       "        0.,  0.,  0.,  0.,  0.,  0.,  0.,  0.,  0.,  0.,  0.,  0.,  0.,\n",
       "        0.,  0.,  0.,  0.,  0.,  0.,  0.,  0.,  0.,  0.,  0.,  0.,  0.,\n",
       "        0.,  0.,  0.,  0.,  0.,  0.,  0.,  0.,  0.,  0.,  0.,  0.,  0.,\n",
       "        0.,  0.,  0.,  0.,  0.,  0.,  0.,  0.,  0.,  0.,  0.,  0.,  0.,\n",
       "        0.,  0.,  0.,  0.,  0.,  0.,  0.,  0., -1.,  0.,  1.,  0.,  0.,\n",
       "        0., -1.,  0.,  0.,  1.,  0.,  0.,  0.,  0.,  0.,  0.,  0.,  0.,\n",
       "        0.,  0.,  0.,  0.,  0.,  0.], dtype=float32)"
      ]
     },
     "execution_count": 44,
     "metadata": {},
     "output_type": "execute_result"
    }
   ],
   "source": [
    "s0 = 1000\n",
    "s1 = s0 + 100\n",
    "diff_sign[s0-10:s1]"
   ]
  },
  {
   "cell_type": "code",
   "execution_count": 45,
   "metadata": {},
   "outputs": [
    {
     "data": {
      "text/plain": [
       "array([-1., -1., -1., -1., -1., -1., -1., -1., -1., -1., -1., -1., -1.,\n",
       "       -1., -1., -1., -1., -1., -1., -1., -1., -1., -1., -1., -1., -1.,\n",
       "       -1., -1., -1., -1., -1., -1., -1., -1., -1., -1., -1., -1., -1.,\n",
       "       -1., -1., -1., -1., -1., -1., -1., -1., -1., -1., -1., -1., -1.,\n",
       "       -1., -1., -1., -1., -1., -1., -1., -1., -1., -1., -1., -1., -1.,\n",
       "       -1., -1., -1., -1., -1., -1., -1., -1., -1., -1., -1., -1., -1.,\n",
       "       -1., -1., -1., -1., -1., -1., -1., -1., -1.,  1.,  1., -1., -1.,\n",
       "       -1., -1.,  1.,  1.,  1., -1., -1., -1., -1.])"
      ]
     },
     "execution_count": 45,
     "metadata": {},
     "output_type": "execute_result"
    }
   ],
   "source": [
    "pred_sign[s0:s1]"
   ]
  },
  {
   "cell_type": "code",
   "execution_count": 46,
   "metadata": {},
   "outputs": [
    {
     "data": {
      "text/plain": [
       "array([ 0., -1., -1., -1., -1., -1.,  0.,  0.,  0., -1., -1., -1., -1.,\n",
       "       -1., -1., -1., -1., -1., -1., -1., -1., -1., -1., -1., -1., -1.,\n",
       "       -1., -1., -1., -1., -1., -1., -1., -1.,  0.,  0., -1., -1., -1.,\n",
       "        0.,  0.,  0.,  1.,  1., -1., -1., -1., -1., -1.,  1.,  1.,  1.,\n",
       "        0.,  0., -1., -1., -1., -1., -1.,  1.,  1.,  0.,  0.,  0.,  0.,\n",
       "        0.,  0.,  0.,  0.,  0.,  0.,  1.,  1.,  1.,  1.,  1.,  1.,  1.,\n",
       "        1.,  1.,  1.,  1.,  1.,  1.,  1.,  1.,  1.,  1.,  1.,  1.,  1.,\n",
       "        1.,  1.,  1.,  1.,  1.,  1.,  1.,  1.,  1.], dtype=float32)"
      ]
     },
     "execution_count": 46,
     "metadata": {},
     "output_type": "execute_result"
    }
   ],
   "source": [
    "sign_y[s0:s1]"
   ]
  },
  {
   "cell_type": "code",
   "execution_count": 50,
   "metadata": {},
   "outputs": [
    {
     "data": {
      "text/plain": [
       "0.8092485549132948"
      ]
     },
     "execution_count": 50,
     "metadata": {},
     "output_type": "execute_result"
    }
   ],
   "source": [
    "evaluate_precision(sign_y[:200], pred_sign[:200])"
   ]
  },
  {
   "cell_type": "markdown",
   "metadata": {},
   "source": [
    "## 3."
   ]
  },
  {
   "cell_type": "code",
   "execution_count": 11,
   "metadata": {},
   "outputs": [],
   "source": [
    "mean_rate = (np.mean(features[:, :15], axis=1) + np.mean(features[:,30:45], axis=1)) / 2"
   ]
  },
  {
   "cell_type": "code",
   "execution_count": 24,
   "metadata": {},
   "outputs": [],
   "source": [
    "vacent_index = list(np.nonzero((features[:, :15] == 0).any(axis=1))[0])\n",
    "for index in vacent_index:\n",
    "    mean_rate[index] = (np.sum(features[index, :15]) + np.sum(features[index, 30:45])) / (np.sum(features[index, :15] != 0) + 15)"
   ]
  },
  {
   "cell_type": "code",
   "execution_count": 106,
   "metadata": {},
   "outputs": [
    {
     "name": "stdout",
     "output_type": "stream",
     "text": [
      "valid: 2366580\n",
      "zero: 633418\n",
      "tp: 114878\n"
     ]
    },
    {
     "data": {
      "text/plain": [
       "0.24943216628811085"
      ]
     },
     "execution_count": 106,
     "metadata": {},
     "output_type": "execute_result"
    }
   ],
   "source": [
    "mean_rate_sign = np.sign(-np.diff(mean_rate))\n",
    "evaluate_precision(sign_y[1:], -mean_rate_sign)"
   ]
  },
  {
   "cell_type": "code",
   "execution_count": null,
   "metadata": {},
   "outputs": [],
   "source": [
    "precisions = []\n",
    "for i in range(5, 240, 3):\n",
    "    ema_mean_rate = dt.ema(mean_rate[:100000], i)\n",
    "    sign_ema = np.ones_like(ema_mean_rate)\n",
    "    sign_ema[mean_rate[:100000] > ema_mean_rate] = -1\n",
    "    precision = evaluate_precision(sign_y[1:100000], np.sign(np.diff(ema_mean_rate)))\n",
    "    print(i, ':', precision)\n",
    "    precisions.append(precision)"
   ]
  },
  {
   "cell_type": "code",
   "execution_count": 116,
   "metadata": {},
   "outputs": [],
   "source": [
    "ema_mean_rate = dt.ema(mean_rate, 240)\n",
    "sign_ema = np.ones_like(ema_mean_rate)\n",
    "sign_ema[mean_rate > ema_mean_rate] = -1"
   ]
  },
  {
   "cell_type": "code",
   "execution_count": 119,
   "metadata": {},
   "outputs": [
    {
     "data": {
      "image/png": "[encoded data removed]",
      "text/plain": [
       "<Figure size 1080x432 with 1 Axes>"
      ]
     },
     "metadata": {
      "needs_background": "light"
     },
     "output_type": "display_data"
    }
   ],
   "source": [
    "s0, s1 = 5000, 5200\n",
    "plt.plot(mean_rate[s0:s1])\n",
    "plt.plot(ema_mean_rate[s0:s1])\n",
    "plt.show()"
   ]
  },
  {
   "cell_type": "code",
   "execution_count": 121,
   "metadata": {},
   "outputs": [
    {
     "data": {
      "image/png": "[encoded data removed]",
      "text/plain": [
       "<Figure size 1080x432 with 1 Axes>"
      ]
     },
     "metadata": {
      "needs_background": "light"
     },
     "output_type": "display_data"
    }
   ],
   "source": [
    "plt.rcParams['figure.figsize'] = (15.0, 6.0)\n",
    "plt.plot(np.arange(s1-s0), sign_ema[s0:s1])\n",
    "plt.plot(np.arange(s1-s0), -nozero_sign_y[s0:s1])\n",
    "plt.show()"
   ]
  },
  {
   "cell_type": "code",
   "execution_count": 104,
   "metadata": {},
   "outputs": [
    {
     "name": "stdout",
     "output_type": "stream",
     "text": [
      "valid: 2366581\n",
      "zero: 633418\n",
      "tp: 1204317\n"
     ]
    },
    {
     "data": {
      "text/plain": [
       "0.6125785375261792"
      ]
     },
     "execution_count": 104,
     "metadata": {},
     "output_type": "execute_result"
    }
   ],
   "source": [
    "# evaluate_precision(sign_y[5000:5100], sign_ema[5000:5100])\n",
    "evaluate_precision(sign_y, sign_ema)"
   ]
  },
  {
   "cell_type": "code",
   "execution_count": 84,
   "metadata": {},
   "outputs": [
    {
     "data": {
      "text/plain": [
       "44391"
      ]
     },
     "execution_count": 84,
     "metadata": {},
     "output_type": "execute_result"
    }
   ],
   "source": [
    "np.sum(np.diff(nozero_sign_y)!=0)"
   ]
  },
  {
   "cell_type": "code",
   "execution_count": 85,
   "metadata": {},
   "outputs": [
    {
     "data": {
      "text/plain": [
       "91621"
      ]
     },
     "execution_count": 85,
     "metadata": {},
     "output_type": "execute_result"
    }
   ],
   "source": [
    "np.sum(np.diff(np.sign(np.diff(ema_mean_rate)))!=0)"
   ]
  },
  {
   "cell_type": "markdown",
   "metadata": {},
   "source": [
    "## 4."
   ]
  },
  {
   "cell_type": "code",
   "execution_count": 136,
   "metadata": {},
   "outputs": [],
   "source": [
    "ema_sign_y = dt.ema(sign_y, 5)"
   ]
  },
  {
   "cell_type": "code",
   "execution_count": 139,
   "metadata": {},
   "outputs": [
    {
     "data": {
      "text/plain": [
       "array([-0.9996241 , -0.99974936, -0.9998329 , -0.6665553 , -0.7777035 ,\n",
       "       -0.85180235, -0.56786823, -0.04524549, -0.363497  , -0.24233133,\n",
       "       -0.16155422,  0.22563052, -0.18291299, -0.45527533, -0.63685024,\n",
       "       -0.7579002 , -0.17193346,  0.21871103,  0.4791407 ,  0.65276045,\n",
       "        0.76850694,  0.8456713 ,  0.8971142 ,  0.9314095 ,  0.954273  ,\n",
       "        0.9695153 ,  0.9796769 ,  0.98645127,  0.9909675 ,  0.9939783 ,\n",
       "        0.99598557,  0.9973237 ,  0.9982158 ,  0.9988105 ,  0.999207  ,\n",
       "        0.99947137,  0.99964756,  0.6664317 ,  0.4442878 ,  0.29619187,\n",
       "        0.19746125,  0.13164084,  0.08776056,  0.05850704,  0.03900469,\n",
       "       -0.3073302 , -0.5382201 , -0.6921467 , -0.79476446, -0.8631763 ],\n",
       "      dtype=float32)"
      ]
     },
     "execution_count": 139,
     "metadata": {},
     "output_type": "execute_result"
    }
   ],
   "source": [
    "ema_sign_y[50:100]"
   ]
  },
  {
   "cell_type": "code",
   "execution_count": 137,
   "metadata": {},
   "outputs": [
    {
     "data": {
      "text/plain": [
       "0.992921330973777"
      ]
     },
     "execution_count": 137,
     "metadata": {},
     "output_type": "execute_result"
    }
   ],
   "source": [
    "evaluate_precision(nozero_sign_y, np.sign(ema_y))"
   ]
  }
 ],
 "metadata": {
  "kernelspec": {
   "display_name": "Python 3",
   "language": "python",
   "name": "python3"
  },
  "language_info": {
   "codemirror_mode": {
    "name": "ipython",
    "version": 3
   },
   "file_extension": ".py",
   "mimetype": "text/x-python",
   "name": "python",
   "nbconvert_exporter": "python",
   "pygments_lexer": "ipython3",
   "version": "3.6.6"
  }
 },
 "nbformat": 4,
 "nbformat_minor": 2
}
