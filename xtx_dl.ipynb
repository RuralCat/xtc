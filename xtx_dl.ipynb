{
 "cells": [
  {
   "cell_type": "code",
   "execution_count": 2,
   "metadata": {},
   "outputs": [],
   "source": [
    "%load_ext autoreload\n",
    "%autoreload 2\n",
    "import warnings\n",
    "warnings.filterwarnings(\"ignore\")"
   ]
  },
  {
   "cell_type": "code",
   "execution_count": 3,
   "metadata": {},
   "outputs": [
    {
     "name": "stderr",
     "output_type": "stream",
     "text": [
      "Using TensorFlow backend.\n"
     ]
    }
   ],
   "source": [
    "import numpy as np\n",
    "import matplotlib.pyplot as plt\n",
    "import seaborn as sns\n",
    "import dataset as dt\n",
    "from keras.utils import to_categorical\n",
    "from xtx_model import simple_model, simple_cnn, simple_mlp, get_weight_grad, rate_size_fusion, lstm_fcn, deep_lob\n",
    "from main import tf_score, score, model_score\n",
    "from keras.optimizers import Adam\n",
    "from keras.losses import categorical_crossentropy\n",
    "import pickle\n",
    "import copy\n",
    "import pandas as pd\n",
    "import warnings\n",
    "import normlization as dt_norm\n",
    "from keras.callbacks import ModelCheckpoint, EarlyStopping, ReduceLROnPlateau\n",
    "from sklearn.metrics import mean_squared_error\n",
    "import itertools"
   ]
  },
  {
   "cell_type": "markdown",
   "metadata": {},
   "source": [
    "## 1. load raw data"
   ]
  },
  {
   "cell_type": "markdown",
   "metadata": {},
   "source": [
    "#### 1.1 load data"
   ]
  },
  {
   "cell_type": "code",
   "execution_count": 44,
   "metadata": {},
   "outputs": [],
   "source": [
    "raw_data = dt.load_raw_data()"
   ]
  },
  {
   "cell_type": "code",
   "execution_count": 89,
   "metadata": {},
   "outputs": [
    {
     "data": {
      "text/plain": [
       "[<matplotlib.lines.Line2D at 0x20d11808e48>]"
      ]
     },
     "execution_count": 89,
     "metadata": {},
     "output_type": "execute_result"
    },
    {
     "data": {
      "image/png": "[encoded data removed]",
      "text/plain": [
       "<Figure size 432x288 with 1 Axes>"
      ]
     },
     "metadata": {
      "needs_background": "light"
     },
     "output_type": "display_data"
    }
   ],
   "source": [
    "y = raw_data[:, 60]\n",
    "\n",
    "mid_price = (raw_data[:, 0] + raw_data[:, 30]) / 2\n",
    "\n",
    "scores = []\n",
    "for n in range(1, 200):\n",
    "    mid_price_diff = mid_price[n:] - mid_price[:-n]\n",
    "    scores.append(score(y[:-n], mid_price_diff))\n",
    "plt.plot(scores)"
   ]
  },
  {
   "cell_type": "code",
   "execution_count": 8,
   "metadata": {},
   "outputs": [
    {
     "name": "stdout",
     "output_type": "stream",
     "text": [
      "Wall time: 85.9 ms\n"
     ]
    }
   ],
   "source": [
    "%%time\n",
    "ds = []\n",
    "ys = []\n",
    "for i in range(68, 68+256):\n",
    "    _d, _y = dt.slide_norm_data_func(dataset.raw_data, i)\n",
    "    ds.append(_d)\n",
    "    ys.append(_y)\n",
    "ds = np.array(ds)\n",
    "ys = np.array(ys)"
   ]
  },
  {
   "cell_type": "markdown",
   "metadata": {},
   "source": [
    "#### 1.2 plot raw data distribution"
   ]
  },
  {
   "cell_type": "code",
   "execution_count": null,
   "metadata": {},
   "outputs": [],
   "source": [
    "train_data = raw_data[:400000:10]\n",
    "test_data = raw_data[-400000::10]"
   ]
  },
  {
   "cell_type": "code",
   "execution_count": null,
   "metadata": {},
   "outputs": [],
   "source": [
    "dt.train_test_plot(train_data[:,60], test_data[:,60], title='label CM-distribution')"
   ]
  },
  {
   "cell_type": "code",
   "execution_count": null,
   "metadata": {},
   "outputs": [],
   "source": [
    "dt.train_test_plot(train_data[:, 0], test_data[:, 0], title='AskRate0 CM-distribution')"
   ]
  },
  {
   "cell_type": "markdown",
   "metadata": {},
   "source": [
    "## 2. data pre-processing"
   ]
  },
  {
   "cell_type": "markdown",
   "metadata": {},
   "source": [
    "#### 2.1 whitening"
   ]
  },
  {
   "cell_type": "code",
   "execution_count": null,
   "metadata": {},
   "outputs": [],
   "source": [
    "train_data = np.copy(raw_data[:400000:10, 0])\n",
    "test_data = np.copy(raw_data[-400000::10, 0])\n",
    "\n",
    "train_mean = np.mean(train_data)\n",
    "train_std = np.std(train_data)\n",
    "train_data = (train_data - train_mean) / train_std\n",
    "test_mean = np.mean(test_data)\n",
    "test_std = np.std(test_data)\n",
    "test_data = (test_data - test_mean) / test_std\n",
    "\n",
    "dt.train_test_plot(train_data, test_data)"
   ]
  },
  {
   "cell_type": "code",
   "execution_count": null,
   "metadata": {},
   "outputs": [],
   "source": [
    "raw_diff = np.diff(raw_data[:2900001, 0]) != 0\n",
    "raw_diff = np.cumsum(raw_diff)\n",
    "for k in range(10):\n",
    "    plt.plot(raw_diff[k*290000:(k+1)*290000] - raw_diff[k*290000], label='{}'.format(k))\n",
    "plt.legend()\n",
    "plt.show()"
   ]
  },
  {
   "cell_type": "markdown",
   "metadata": {},
   "source": [
    "#### 2.1 sliding whitening"
   ]
  },
  {
   "cell_type": "code",
   "execution_count": null,
   "metadata": {},
   "outputs": [],
   "source": [
    "def get_data(window_size=60):\n",
    "    _train = np.pad(raw_data[:400000], ((window_size-1, 0), (0,0)), 'edge')\n",
    "    _test = np.pad(raw_data[-400000:], ((window_size-1, 0), (0,0)), 'edge')\n",
    "    train_x, train_y = dt.data_sliding(_train, time_step=window_size)\n",
    "    test_x, train_y = dt.data_sliding(_test, time_step=window_size)\n",
    "    \n",
    "    train_data = (train_x[:, -1] - np.mean(train_x, axis=1)) / (np.std(train_x, axis=1) + 1e-4)\n",
    "    test_data = (test_x[:, -1] - np.mean(test_x, axis=1)) / (np.std(test_x, axis=1) + 1e-4)\n",
    "    return train_data[::10, 0], test_data[::10, 0]"
   ]
  },
  {
   "cell_type": "code",
   "execution_count": null,
   "metadata": {},
   "outputs": [],
   "source": [
    "window_sizes = [30, 60, 120, 240]\n",
    "plt.subplots(2, 2, figsize=(14,8))\n",
    "for i, size in enumerate(window_sizes):\n",
    "    axe = plt.subplot(2, 2, i+1)\n",
    "    train_data, test_data = get_data(size)\n",
    "    sns.kdeplot(train_data, cumulative=True, legend=True, ax=axe, label='train')\n",
    "    sns.kdeplot(test_data, cumulative=True, legend=True, ax=axe, label='test')\n",
    "    plt.title('window size:{}'.format(size))\n",
    "plt.show()"
   ]
  },
  {
   "cell_type": "markdown",
   "metadata": {},
   "source": [
    "#### 2.2 normlization"
   ]
  },
  {
   "cell_type": "code",
   "execution_count": 98,
   "metadata": {},
   "outputs": [
    {
     "name": "stdout",
     "output_type": "stream",
     "text": [
      "train:359998, val:59999, test:180000\n"
     ]
    }
   ],
   "source": [
    "time_step = 15\n",
    "(train_x, train_y), (val_x, val_y), (test_x, test_y) = dt.dataset_slide_norm(time_step=time_step, norm_window_size=10)"
   ]
  },
  {
   "cell_type": "code",
   "execution_count": null,
   "metadata": {},
   "outputs": [],
   "source": [
    "dt.train_test_plot(train_y[:40000], test_y[:40000], title='label')"
   ]
  },
  {
   "cell_type": "markdown",
   "metadata": {},
   "source": [
    "# 3. model"
   ]
  },
  {
   "cell_type": "code",
   "execution_count": 4,
   "metadata": {},
   "outputs": [],
   "source": [
    "# callbacks\n",
    "checkpoint = ModelCheckpoint('', monitor='val_loss', verbose=1, save_best_only=True)\n",
    "earlystop = EarlyStopping(monitor='val_loss', min_delta=1e-4, patience=8, verbose=1, restore_best_weights=True)\n",
    "reduce_lr = ReduceLROnPlateau(monitor='val_loss', factor=0.6, patience=3, min_delta=1e-4, verbose=1)\n",
    "train_callbacks = [earlystop, reduce_lr]"
   ]
  },
  {
   "cell_type": "markdown",
   "metadata": {},
   "source": [
    "### 3.1 lstm"
   ]
  },
  {
   "cell_type": "code",
   "execution_count": null,
   "metadata": {},
   "outputs": [],
   "source": [
    "# lstm\n",
    "model = simple_model(regression=True)\n",
    "model.compile(Adam(2e-4), loss=tf_score, metrics=['accuracy'])\n",
    "model.fit(train_x, train_y, batch_size=128, epochs=10, validation_data=(val_x, val_y))"
   ]
  },
  {
   "cell_type": "code",
   "execution_count": null,
   "metadata": {},
   "outputs": [],
   "source": [
    "# test\n",
    "test_y_prob = model.predict(test_x, batch_size=128, verbose=1)\n",
    "test_y_pred = np.argmax(test_y_pred, axis=1)\n",
    "sns.distplot(test_y_pred, kde=False)\n",
    "\n",
    "score(test_y*0.25 - 1.25, test_y_pred_*0.25 - 1.25)"
   ]
  },
  {
   "cell_type": "markdown",
   "metadata": {},
   "source": [
    "### 3.1.2 lstm_fcn"
   ]
  },
  {
   "cell_type": "code",
   "execution_count": null,
   "metadata": {},
   "outputs": [],
   "source": [
    "time_step = 60\n",
    "(train_x, train_y), (val_x, val_y), (test_x, test_y) = dt.dataset_slide_norm(time_step=time_step, norm_window_size=60)"
   ]
  },
  {
   "cell_type": "code",
   "execution_count": 138,
   "metadata": {},
   "outputs": [],
   "source": [
    "reg = True\n",
    "lstm_fcn_model = lstm_fcn(time_step=time_step, regression=reg)\n",
    "loss = 'categorical_crossentropy' if not reg else 'mse'\n",
    "lstm_fcn_model.compile(Adam(2e-4), loss=loss, metrics=['accuracy'])"
   ]
  },
  {
   "cell_type": "code",
   "execution_count": null,
   "metadata": {},
   "outputs": [],
   "source": [
    "lstm_fcn_model.fit(train_x[::5], train_y[::5], batch_size=256, epochs=20, validation_data=(val_x, val_y))"
   ]
  },
  {
   "cell_type": "code",
   "execution_count": 140,
   "metadata": {},
   "outputs": [
    {
     "name": "stdout",
     "output_type": "stream",
     "text": [
      "299998/299998 [==============================] - 6s 21us/step\n"
     ]
    },
    {
     "data": {
      "text/plain": [
       "-0.03799474239349365"
      ]
     },
     "execution_count": 140,
     "metadata": {},
     "output_type": "execute_result"
    }
   ],
   "source": [
    "pred_val_y = lstm_fcn_model.predict(val_x, batch_size=256, verbose=1)\n",
    "score(val_y, pred_val_y[:, 0])"
   ]
  },
  {
   "cell_type": "markdown",
   "metadata": {},
   "source": [
    "### 3.2 cnn"
   ]
  },
  {
   "cell_type": "code",
   "execution_count": null,
   "metadata": {},
   "outputs": [],
   "source": [
    "# cnn\n",
    "model = simple_cnn()\n",
    "model.compile(Adam(3e-4), loss=categorical_crossentropy, metrics=['accuracy'])\n",
    "model.summary()"
   ]
  },
  {
   "cell_type": "markdown",
   "metadata": {},
   "source": [
    "### 3.3 mlp"
   ]
  },
  {
   "cell_type": "code",
   "execution_count": 5,
   "metadata": {},
   "outputs": [
    {
     "name": "stdout",
     "output_type": "stream",
     "text": [
      "Time series length: 2999999\n"
     ]
    }
   ],
   "source": [
    "# load dataset\n",
    "dataset = dt.XTXDataset()\n",
    "dataset.delete_invalid_rows()"
   ]
  },
  {
   "cell_type": "markdown",
   "metadata": {},
   "source": [
    "##### max_min normlization"
   ]
  },
  {
   "cell_type": "code",
   "execution_count": 70,
   "metadata": {},
   "outputs": [],
   "source": [
    "x, y = dt.data_sliding(dataset.raw_data[:,:60], dataset.label_y, time_step=60, time_stride=5)\n",
    "x = x[::5]\n",
    "y = y[::5]\n",
    "max_x = np.max(x, axis=1, keepdims=True)\n",
    "min_x = np.min(x, axis=1, keepdims=True)\n",
    "normed_x = (x - min_x) / (max_x - min_x + 1e-3)"
   ]
  },
  {
   "cell_type": "code",
   "execution_count": 72,
   "metadata": {},
   "outputs": [
    {
     "name": "stdout",
     "output_type": "stream",
     "text": [
      "train:359910, val:59985, test:179955\n"
     ]
    }
   ],
   "source": [
    "(train_x, train_y), (val_x, val_y), (test_x, test_y) = dt.split_data([normed_x, y], split=[0.6, 0.1, 0.3], sampling=1)"
   ]
  },
  {
   "cell_type": "code",
   "execution_count": 121,
   "metadata": {},
   "outputs": [
    {
     "data": {
      "text/plain": [
       "(359937, 15, 60)"
      ]
     },
     "execution_count": 121,
     "metadata": {},
     "output_type": "execute_result"
    }
   ],
   "source": [
    "train_x.shape"
   ]
  },
  {
   "cell_type": "markdown",
   "metadata": {},
   "source": [
    "##### z-move-normlization"
   ]
  },
  {
   "cell_type": "code",
   "execution_count": 48,
   "metadata": {},
   "outputs": [],
   "source": [
    "time_step = 15\n",
    "wsz = 10\n",
    "time_stride = 1"
   ]
  },
  {
   "cell_type": "code",
   "execution_count": 49,
   "metadata": {},
   "outputs": [
    {
     "name": "stdout",
     "output_type": "stream",
     "text": [
      "train:359944, val:59990, test:179973\n"
     ]
    }
   ],
   "source": [
    "normed_data = dt_norm.slide_norm(dataset.features, window_size=wsz)\n",
    "# padded_features = np.pad(dataset.features, ((wsz-1, 0), (0, 0)), 'edge')\n",
    "# features = dt.data_sliding(padded_features, time_step=time_step)\n",
    "# mean_features = np.mean(features, axis=1)\n",
    "# std_features = np.std(features, axis=1)\n",
    "\n",
    "middle_price = (dataset.features[:, 0] + dataset.features[:, 30]) / 2\n",
    "normed_y = 1000 * dataset.label_y / middle_price\n",
    "\n",
    "x, y = dt.data_sliding(normed_data, dataset.label_y, time_step=time_step*time_stride)\n",
    "x = x[:, ::time_stride]\n",
    "# (train_x, train_y), (val_x, val_y), (test_x, test_y) = dt.split_data_by_interval([x, y], split=[0.6, 0.2, 0.2], sampling=5)\n",
    "# (train_x, train_y, train_mp), (val_x, val_y, val_mp), (test_x, test_y, test_mp) = dt.split_data([x, y, middle_price], split=[0.6, 0.1, 0.3], sampling=5)\n",
    "(train_x, train_y), (val_x, val_y), (test_x, test_y) = dt.split_data([x, y], split=[0.6, 0.1, 0.3], sampling=5)"
   ]
  },
  {
   "cell_type": "markdown",
   "metadata": {},
   "source": [
    "##### z-move-normlization-v2"
   ]
  },
  {
   "cell_type": "code",
   "execution_count": 155,
   "metadata": {},
   "outputs": [],
   "source": [
    "time_step = 15\n",
    "x, y = dt.data_sliding(dataset.features, dataset.label_y, time_step=time_step)"
   ]
  },
  {
   "cell_type": "code",
   "execution_count": 156,
   "metadata": {},
   "outputs": [],
   "source": [
    "rate = np.concatenate([x[:, :, :15], x[:, :, 30:45]], axis=2)\n",
    "rate_mean = np.mean(rate, axis=(1, 2), keepdims=True)\n",
    "rate_std = np.std(rate, axis=(1, 2), keepdims=True)\n",
    "size = np.concatenate([x[:, :, 15:30], x[:, :, 45:60]], axis=2)\n",
    "size_mean = np.mean(size, axis=(1, 2), keepdims=True)\n",
    "size_std = np.std(size, axis=(1, 2), keepdims=True)"
   ]
  },
  {
   "cell_type": "code",
   "execution_count": 157,
   "metadata": {},
   "outputs": [],
   "source": [
    "normed_rate = (rate - rate_mean) / (rate_std + 1e-4)\n",
    "normed_size = (size - size_mean) / (size_std + 1e-4)\n",
    "\n",
    "normed_data = np.concatenate([normed_rate[..., :15], normed_size[..., :15], normed_rate[..., 15:30], normed_size[..., 15:30]], axis=2)"
   ]
  },
  {
   "cell_type": "code",
   "execution_count": 158,
   "metadata": {},
   "outputs": [
    {
     "name": "stdout",
     "output_type": "stream",
     "text": [
      "train:359944, val:59990, test:179973\n"
     ]
    }
   ],
   "source": [
    "(train_x, train_y), (val_x, val_y), (test_x, test_y) = dt.split_data([normed_data, y], split=[0.6, 0.1, 0.3], sampling=5)"
   ]
  },
  {
   "cell_type": "markdown",
   "metadata": {},
   "source": [
    "##### z-move-normlization-v3"
   ]
  },
  {
   "cell_type": "code",
   "execution_count": 23,
   "metadata": {},
   "outputs": [],
   "source": [
    "time_step = 15\n",
    "wsz = 10\n",
    "x, y = dt.data_sliding(dataset.features, dataset.label_y, time_step=wsz)\n",
    "\n",
    "rate = np.concatenate([x[:, :, :15], x[:, :, 30:45]], axis=2)\n",
    "rate_mean = np.mean(rate, axis=(1, 2), keepdims=True)\n",
    "rate_std = np.std(rate, axis=(1, 2), keepdims=True)\n",
    "size = np.concatenate([x[:, :, 15:30], x[:, :, 45:60]], axis=2)\n",
    "size_mean = np.mean(size, axis=(1, 2), keepdims=True)\n",
    "size_std = np.std(size, axis=(1, 2), keepdims=True)"
   ]
  },
  {
   "cell_type": "code",
   "execution_count": 24,
   "metadata": {},
   "outputs": [],
   "source": [
    "normed_rate = (rate[:, -1, :] - np.squeeze(rate_mean, axis=2)) / (np.squeeze(rate_std, axis=2) + 1e-4)\n",
    "normed_size = (size[:, -1, :] - np.squeeze(size_mean, axis=2)) / (np.squeeze(size_std, axis=2) + 1e-4)\n",
    "\n",
    "normed_data = np.concatenate([normed_rate[..., :15], normed_size[..., :15], normed_rate[..., 15:30], normed_size[..., 15:30]], axis=1)"
   ]
  },
  {
   "cell_type": "code",
   "execution_count": 25,
   "metadata": {},
   "outputs": [
    {
     "name": "stdout",
     "output_type": "stream",
     "text": [
      "train:359943, val:59990, test:179972\n"
     ]
    }
   ],
   "source": [
    "x, y = dt.data_sliding(normed_data, y, time_step=time_step)\n",
    "(train_x, train_y), (val_x, val_y), (test_x, test_y) = dt.split_data([x, y], split=[0.6, 0.1, 0.3], sampling=5)"
   ]
  },
  {
   "cell_type": "markdown",
   "metadata": {},
   "source": [
    "##### z-move-normlization-by-middle-rate"
   ]
  },
  {
   "cell_type": "code",
   "execution_count": 93,
   "metadata": {},
   "outputs": [],
   "source": [
    "time_step = 15\n",
    "wsz = 10"
   ]
  },
  {
   "cell_type": "code",
   "execution_count": 97,
   "metadata": {},
   "outputs": [],
   "source": [
    "middle_price = (dataset.features[:, 0] + dataset.features[:, 30]) / 2"
   ]
  },
  {
   "cell_type": "markdown",
   "metadata": {},
   "source": [
    "##### z-global normlization"
   ]
  },
  {
   "cell_type": "code",
   "execution_count": 161,
   "metadata": {},
   "outputs": [],
   "source": [
    "nb_train_sample = int(dataset.raw_data.shape[0] * 0.7)\n",
    "train_mean = np.mean(dataset.features, axis=0, keepdims=True)\n",
    "train_std = np.std(dataset.features, axis=0, keepdims=True)"
   ]
  },
  {
   "cell_type": "code",
   "execution_count": 163,
   "metadata": {},
   "outputs": [],
   "source": [
    "x = (dataset.features - train_mean) / train_std\n",
    "x, y = dt.data_sliding(x, dataset.label_y, time_step=time_step)"
   ]
  },
  {
   "cell_type": "code",
   "execution_count": 165,
   "metadata": {},
   "outputs": [
    {
     "name": "stdout",
     "output_type": "stream",
     "text": [
      "train:359944, val:59990, test:179973\n"
     ]
    }
   ],
   "source": [
    "(train_x, train_y), (val_x, val_y), (test_x, test_y) = dt.split_data([x, y], split=[0.6, 0.1, 0.3], sampling=5)"
   ]
  },
  {
   "cell_type": "markdown",
   "metadata": {},
   "source": [
    "##### no-z-normalization"
   ]
  },
  {
   "cell_type": "code",
   "execution_count": 31,
   "metadata": {},
   "outputs": [
    {
     "name": "stdout",
     "output_type": "stream",
     "text": [
      "train:359932, val:59989, test:179967\n"
     ]
    }
   ],
   "source": [
    "time_step = 15\n",
    "norm_wsz = 10\n",
    "\n",
    "mid_price = (dataset.features[:, 0] + dataset.features[:, 30]) / 2\n",
    "n = 87\n",
    "y = mid_price[n:] - mid_price[:-n]\n",
    "x = dataset.features[:-n]\n",
    "\n",
    "x, y = dt.data_sliding(x, y, time_step=time_step+norm_wsz-1)\n",
    "(train_x, train_y), (val_x, val_y), (test_x, test_y) = dt.split_data([x, y], split=[0.6, 0.1, 0.3], sampling=5)\n",
    "\n",
    "train_valid = train_x.shape[0] // 256 * 256\n",
    "val_valid = val_x.shape[0] // 256 * 256\n",
    "train_x = train_x[:train_valid]\n",
    "train_y = train_y[:train_valid]\n",
    "val_x = val_x[:val_valid]\n",
    "val_y = val_y[:val_valid]"
   ]
  },
  {
   "cell_type": "markdown",
   "metadata": {},
   "source": [
    "##### train model"
   ]
  },
  {
   "cell_type": "code",
   "execution_count": 32,
   "metadata": {},
   "outputs": [],
   "source": [
    "models = []"
   ]
  },
  {
   "cell_type": "code",
   "execution_count": null,
   "metadata": {
    "scrolled": false
   },
   "outputs": [],
   "source": [
    "for i in range(25):\n",
    "    # mlp\n",
    "    model = simple_mlp(time_step=time_step, regression=True, batch_norm=False)\n",
    "    model.compile(Adam(2e-4), loss=tf_score, metrics=['accuracy'])\n",
    "    # model.summary()\n",
    "\n",
    "    # train & evaluation\n",
    "    history = model.fit(train_x, train_y, batch_size=256, epochs=20, validation_data=(val_x, val_y), callbacks=train_callbacks)\n",
    "    models.append(model)\n",
    "# train_score, val_score, test_score = model_score(model, train_x, train_y, val_x, val_y, test_x, test_y)"
   ]
  },
  {
   "cell_type": "code",
   "execution_count": 36,
   "metadata": {},
   "outputs": [
    {
     "name": "stdout",
     "output_type": "stream",
     "text": [
      "0.02213585376739502\n",
      "0.017158091068267822\n",
      "0.015904366970062256\n"
     ]
    }
   ],
   "source": [
    "for x, y in zip([train_x, val_x, test_x], [train_y, val_y, test_y]):\n",
    "    preds = []\n",
    "    for model in models:\n",
    "        preds.append(model.predict(x, batch_size=256))\n",
    "    pred_y = np.stack(preds, axis=1)\n",
    "    print(score(y, np.mean(pred_y, axis=1)))"
   ]
  },
  {
   "cell_type": "code",
   "execution_count": null,
   "metadata": {},
   "outputs": [],
   "source": [
    "batch_size = [256, 512]\n",
    "leak_relu_alpha = [1e-4, 1e-3, 1e-2, 1e-1, 2e-1, 3e-1]\n",
    "\n",
    "p = itertools.product(batch_size, leak_relu_alpha)\n",
    "\n",
    "val_scores = {}\n",
    "test_scores = {}\n",
    "for bs, alpha in p:\n",
    "    model = simple_mlp(time_step=time_step, regression=True, batch_norm=False, leaky_relu_alpha=alpha)\n",
    "    model.compile(Adam(2e-4), loss=tf_score, metrics=['accuracy'])\n",
    "    history = model.fit(train_x, train_y, batch_size=bs, epochs=20, validation_data=(val_x, val_y), callbacks=train_callbacks)\n",
    "    train_score, val_score, test_score = model_score(model, train_x, train_y, val_x, val_y, test_x, test_y)\n",
    "    \n",
    "    param = 'batch_size:{}_alpha:{}'.format(bs, alpha)\n",
    "    val_scores[param] = val_score\n",
    "    test_scores[param] = test_score"
   ]
  },
  {
   "cell_type": "code",
   "execution_count": 36,
   "metadata": {},
   "outputs": [
    {
     "data": {
      "text/plain": [
       "{'batch_size:256_alpha:0.0001': 0.01704806089401245,\n",
       " 'batch_size:256_alpha:0.001': 0.016438663005828857,\n",
       " 'batch_size:256_alpha:0.01': 0.012787699699401855,\n",
       " 'batch_size:256_alpha:0.1': 0.016999542713165283,\n",
       " 'batch_size:256_alpha:0.2': 0.015645503997802734,\n",
       " 'batch_size:256_alpha:0.3': 0.01658952236175537,\n",
       " 'batch_size:512_alpha:0.0001': 0.015582144260406494,\n",
       " 'batch_size:512_alpha:0.001': 0.015358924865722656,\n",
       " 'batch_size:512_alpha:0.01': 0.014608025550842285,\n",
       " 'batch_size:512_alpha:0.1': 0.017014503479003906,\n",
       " 'batch_size:512_alpha:0.2': 0.015494108200073242,\n",
       " 'batch_size:512_alpha:0.3': 0.016971290111541748}"
      ]
     },
     "execution_count": 36,
     "metadata": {},
     "output_type": "execute_result"
    }
   ],
   "source": [
    "val_scores"
   ]
  },
  {
   "cell_type": "code",
   "execution_count": 37,
   "metadata": {},
   "outputs": [
    {
     "data": {
      "text/plain": [
       "{'batch_size:256_alpha:0.0001': 0.015557169914245605,\n",
       " 'batch_size:256_alpha:0.001': 0.015375614166259766,\n",
       " 'batch_size:256_alpha:0.01': 0.013300836086273193,\n",
       " 'batch_size:256_alpha:0.1': 0.01551741361618042,\n",
       " 'batch_size:256_alpha:0.2': 0.01420503854751587,\n",
       " 'batch_size:256_alpha:0.3': 0.01437675952911377,\n",
       " 'batch_size:512_alpha:0.0001': 0.014170706272125244,\n",
       " 'batch_size:512_alpha:0.001': 0.014802813529968262,\n",
       " 'batch_size:512_alpha:0.01': 0.014338493347167969,\n",
       " 'batch_size:512_alpha:0.1': 0.015447020530700684,\n",
       " 'batch_size:512_alpha:0.2': 0.014468550682067871,\n",
       " 'batch_size:512_alpha:0.3': 0.013535678386688232}"
      ]
     },
     "execution_count": 37,
     "metadata": {},
     "output_type": "execute_result"
    }
   ],
   "source": [
    "test_scores"
   ]
  },
  {
   "cell_type": "code",
   "execution_count": 118,
   "metadata": {},
   "outputs": [
    {
     "name": "stdout",
     "output_type": "stream",
     "text": [
      "59990/59990 [==============================] - 1s 14us/step\n"
     ]
    },
    {
     "data": {
      "text/plain": [
       "0.008584816865323641"
      ]
     },
     "execution_count": 118,
     "metadata": {},
     "output_type": "execute_result"
    }
   ],
   "source": [
    "pred_test_y = model.predict(val_x, batch_size=256, verbose=1)\n",
    "ma_pred_test_y = np.convolve(pred_test_y[:,0], 1*np.ones(1), mode='same')\n",
    "score(val_y*val_mp/1000, ma_pred_test_y/val_mp*1000)\n",
    "\n",
    "# sns.distplot(pred_test_y, kde=False)\n",
    "# plt.plot()"
   ]
  },
  {
   "cell_type": "markdown",
   "metadata": {},
   "source": [
    "### 3.4 Rate_Size_Fusion MLP"
   ]
  },
  {
   "cell_type": "code",
   "execution_count": 3,
   "metadata": {},
   "outputs": [],
   "source": [
    "def rates_sizes_split(x):\n",
    "    nb = x.shape[0]\n",
    "    rates = np.concatenate([x[..., 0:15], x[..., 30:45]], axis=2)\n",
    "    sizes = np.concatenate([x[..., 15:30], x[..., 45:60]], axis=2)\n",
    "    \n",
    "    return [rates, sizes]\n",
    "\n",
    "def add_noise(x, y):\n",
    "    _x = np.tile(x, (3, 1, 1))\n",
    "    _y = np.concatenate([y, y+0.25, y-0.25], axis=0)\n",
    "    return _x, _y\n",
    "\n",
    "# atrain_x, atrain_y = add_noise(train_x, train_y)"
   ]
  },
  {
   "cell_type": "code",
   "execution_count": 101,
   "metadata": {},
   "outputs": [
    {
     "name": "stdout",
     "output_type": "stream",
     "text": [
      "train:359992, val:59999, test:179997\n"
     ]
    }
   ],
   "source": [
    "time_step = 60\n",
    "(train_x, train_y), (val_x, val_y), (test_x, test_y) = dt.dataset_slide_norm(time_step=time_step, norm_window_size=10)"
   ]
  },
  {
   "cell_type": "code",
   "execution_count": 79,
   "metadata": {},
   "outputs": [],
   "source": [
    "_train_x, _val_x, _test_x = [rates_sizes_split(t) for t in [train_x, val_x, test_x]]\n",
    "_train_y, _val_y, _test_y = [t for t in [train_y, val_y, test_y]]"
   ]
  },
  {
   "cell_type": "code",
   "execution_count": 80,
   "metadata": {},
   "outputs": [],
   "source": [
    "model = rate_size_fusion(time_step=time_step)\n",
    "model.compile(Adam(2e-4), loss=tf_score, metrics=['accuracy'])"
   ]
  },
  {
   "cell_type": "code",
   "execution_count": null,
   "metadata": {
    "scrolled": false
   },
   "outputs": [],
   "source": [
    "history = model.fit(_train_x, _train_y, \n",
    "                    batch_size=512, epochs=60, \n",
    "                    validation_data=(_val_x, _val_y), \n",
    "                    callbacks=None)\n",
    "# train_score, test_score = model_score(model, rates_sizes_split(train_x), train_y, rates_sizes_split(test_x), test_y)"
   ]
  },
  {
   "cell_type": "code",
   "execution_count": 97,
   "metadata": {},
   "outputs": [
    {
     "name": "stdout",
     "output_type": "stream",
     "text": [
      "359992/359992 [==============================] - 9s 25us/step\n",
      "train score: 0.31509\n",
      "59999/59999 [==============================] - 1s 25us/step\n",
      "val score: -0.05056\n",
      "179997/179997 [==============================] - 4s 25us/step\n",
      "test score: -0.07010\n"
     ]
    }
   ],
   "source": [
    "train_score, val_score, test_score = model_score(model, _train_x, _train_y, _val_x, _val_y, _test_x, _test_y)"
   ]
  },
  {
   "cell_type": "code",
   "execution_count": 98,
   "metadata": {},
   "outputs": [
    {
     "name": "stdout",
     "output_type": "stream",
     "text": [
      "359992/359992 [==============================] - 9s 24us/step\n"
     ]
    }
   ],
   "source": [
    "test_y_pred = model.predict(_train_x, batch_size=512, verbose=1)"
   ]
  },
  {
   "cell_type": "code",
   "execution_count": 99,
   "metadata": {},
   "outputs": [
    {
     "name": "stdout",
     "output_type": "stream",
     "text": [
      "359992/359992 [==============================] - 9s 24us/step\n"
     ]
    },
    {
     "data": {
      "image/png": "[encoded data removed]",
      "text/plain": [
       "<Figure size 432x288 with 1 Axes>"
      ]
     },
     "metadata": {
      "needs_background": "light"
     },
     "output_type": "display_data"
    }
   ],
   "source": [
    "test_y_pred = model.predict(_train_x, batch_size=512, verbose=1)\n",
    "sns.distplot(train_y, kde=False, norm_hist=True, label='label')\n",
    "# sns.distplot(_test_y, kde=False, label='label smoothing')\n",
    "sns.distplot(test_y_pred, kde=False, norm_hist=True, label='prediction')\n",
    "plt.legend()\n",
    "plt.show()"
   ]
  },
  {
   "cell_type": "code",
   "execution_count": 100,
   "metadata": {},
   "outputs": [
    {
     "name": "stdout",
     "output_type": "stream",
     "text": [
      "59999/59999 [==============================] - 1s 24us/step\n"
     ]
    },
    {
     "data": {
      "image/png": "[encoded data removed]",
      "text/plain": [
       "<Figure size 432x288 with 1 Axes>"
      ]
     },
     "metadata": {
      "needs_background": "light"
     },
     "output_type": "display_data"
    }
   ],
   "source": [
    "test_y_pred = model.predict(_val_x, batch_size=512, verbose=1)\n",
    "sns.distplot(val_y, kde=False, label='label')\n",
    "# sns.distplot(_test_y, kde=False, label='label smoothing')\n",
    "sns.distplot(test_y_pred, kde=False, label='prediction')\n",
    "plt.legend()\n",
    "plt.show()"
   ]
  },
  {
   "cell_type": "code",
   "execution_count": 88,
   "metadata": {},
   "outputs": [
    {
     "data": {
      "image/png": "[encoded data removed]",
      "text/plain": [
       "<Figure size 432x288 with 1 Axes>"
      ]
     },
     "metadata": {
      "needs_background": "light"
     },
     "output_type": "display_data"
    }
   ],
   "source": [
    "sns.distplot(train_y, kde=False, norm_hist=True, label='train')\n",
    "sns.distplot(val_y, kde=False, norm_hist=True, label='val')\n",
    "plt.legend()\n",
    "plt.show()"
   ]
  },
  {
   "cell_type": "code",
   "execution_count": 50,
   "metadata": {},
   "outputs": [
    {
     "data": {
      "text/plain": [
       "0.8987584933638573"
      ]
     },
     "execution_count": 50,
     "metadata": {},
     "output_type": "execute_result"
    }
   ],
   "source": [
    "score(train_y, _train_y)"
   ]
  },
  {
   "cell_type": "markdown",
   "metadata": {},
   "source": [
    "### 3.5 sign model"
   ]
  },
  {
   "cell_type": "code",
   "execution_count": null,
   "metadata": {},
   "outputs": [],
   "source": [
    "sign_model = rate_size_fusion(time_step=time_step)\n",
    "sign_model.compile(Adam(2e-4), loss='mse', metrics=['accuracy'])\n",
    "history = sign_model.fit(rates_sizes_split(train_x), np.sign(train_y+1e-3), \n",
    "                    batch_size=512, epochs=20, \n",
    "                    validation_data=(rates_sizes_split(val_x), np.sign(val_y+1e-3)), \n",
    "                    callbacks=None)"
   ]
  },
  {
   "cell_type": "markdown",
   "metadata": {},
   "source": [
    "### 3.6 deep_lob"
   ]
  },
  {
   "cell_type": "code",
   "execution_count": 26,
   "metadata": {},
   "outputs": [],
   "source": [
    "def norm_y(mid_price):\n",
    "    pass\n",
    "\n",
    "def norm_y_to_label():\n",
    "    pass\n",
    "\n",
    "time_step = 10\n",
    "mid_rate = (dataset.features[:, 0] + dataset.features[:, 30]) / 2\n",
    "mid_rate = np.expand_dims(np.pad(mid_rate, (time_step-1, 0), 'edge'), axis=1)\n",
    "mid_rate = dt.data_sliding(mid_rate, time_step=time_step)\n",
    "mean_mid_rate = np.mean(mid_rate, axis=(1, 2))\n",
    "# std_mid_rate = np.std(mid_rate, axis=(1, 2))\n",
    "\n",
    "delay = 87\n",
    "normed_y = mean_mid_rate[delay:] - mean_mid_rate[:-delay]"
   ]
  },
  {
   "cell_type": "code",
   "execution_count": 29,
   "metadata": {},
   "outputs": [
    {
     "data": {
      "text/plain": [
       "(2999461,)"
      ]
     },
     "execution_count": 29,
     "metadata": {},
     "output_type": "execute_result"
    }
   ],
   "source": [
    "normed_y.shape"
   ]
  },
  {
   "cell_type": "code",
   "execution_count": 17,
   "metadata": {},
   "outputs": [
    {
     "data": {
      "text/plain": [
       "(2999548, 60)"
      ]
     },
     "execution_count": 17,
     "metadata": {},
     "output_type": "execute_result"
    }
   ],
   "source": [
    "dataset.features.shape"
   ]
  },
  {
   "cell_type": "code",
   "execution_count": 51,
   "metadata": {},
   "outputs": [
    {
     "name": "stdout",
     "output_type": "stream",
     "text": [
      "train:359942, val:59990, test:179972\n"
     ]
    }
   ],
   "source": [
    "time_step = 30\n",
    "wsz = 10\n",
    "\n",
    "normed_data = dt_norm.slide_norm(dataset.features, window_size=wsz)\n",
    "_normed_data = normed_data[:, 0::15]\n",
    "for i in range(1, 15):\n",
    "    _normed_data = np.concatenate([_normed_data, normed_data[:,i::15]], axis=1)\n",
    "\n",
    "x, y = dt.data_sliding(_normed_data, dataset.label_y, time_step=time_step*time_stride)\n",
    "x = x[:, ::time_stride]\n",
    "# (train_x, train_y), (val_x, val_y), (test_x, test_y) = dt.split_data_by_interval([x, y], split=[0.6, 0.2, 0.2], sampling=5)\n",
    "# (train_x, train_y, train_mp), (val_x, val_y, val_mp), (test_x, test_y, test_mp) = dt.split_data([x, y, middle_price], split=[0.6, 0.1, 0.3], sampling=5)\n",
    "(train_x, train_y), (val_x, val_y), (test_x, test_y) = dt.split_data([x, y], split=[0.6, 0.1, 0.3], sampling=5)"
   ]
  },
  {
   "cell_type": "code",
   "execution_count": 63,
   "metadata": {},
   "outputs": [],
   "source": [
    "dlob_model = deep_lob(time_steps=time_step, nb_features=60, regression=True)\n",
    "dlob_model.compile(Adam(2e-4), loss=tf_score)"
   ]
  },
  {
   "cell_type": "code",
   "execution_count": 65,
   "metadata": {},
   "outputs": [
    {
     "name": "stdout",
     "output_type": "stream",
     "text": [
      "Train on 359942 samples, validate on 59990 samples\n",
      "Epoch 1/20\n",
      "359942/359942 [==============================] - 134s 373us/step - loss: 0.9914 - val_loss: 0.9861\n",
      "Epoch 2/20\n",
      "359942/359942 [==============================] - 133s 368us/step - loss: 0.9847 - val_loss: 0.9833\n",
      "Epoch 3/20\n",
      "359942/359942 [==============================] - 132s 366us/step - loss: 0.9821 - val_loss: 0.9834\n",
      "Epoch 4/20\n",
      "359942/359942 [==============================] - 132s 366us/step - loss: 0.9796 - val_loss: 0.9876\n",
      "Epoch 5/20\n",
      "359942/359942 [==============================] - 132s 366us/step - loss: 0.9768 - val_loss: 0.9977\n",
      "\n",
      "Epoch 00005: ReduceLROnPlateau reducing learning rate to 0.00011999999696854502.\n",
      "Epoch 6/20\n",
      "359942/359942 [==============================] - 132s 366us/step - loss: 0.9718 - val_loss: 0.9990\n",
      "Epoch 7/20\n",
      "359942/359942 [==============================] - 131s 365us/step - loss: 0.9681 - val_loss: 1.0464\n",
      "Epoch 8/20\n",
      "359942/359942 [==============================] - 132s 366us/step - loss: 0.9638 - val_loss: 1.0328\n",
      "\n",
      "Epoch 00008: ReduceLROnPlateau reducing learning rate to 7.199999818112701e-05.\n",
      "Epoch 9/20\n",
      "359942/359942 [==============================] - 132s 366us/step - loss: 0.9586 - val_loss: 1.0873\n",
      "Epoch 10/20\n",
      "359942/359942 [==============================] - 131s 364us/step - loss: 0.9553 - val_loss: 1.0861\n",
      "Restoring model weights from the end of the best epoch\n",
      "Epoch 00010: early stopping\n"
     ]
    },
    {
     "ename": "ValueError",
     "evalue": "Error when checking input: expected input_1 to have shape (15, 60) but got array with shape (30, 60)",
     "output_type": "error",
     "traceback": [
      "\u001b[1;31m---------------------------------------------------------------------------\u001b[0m",
      "\u001b[1;31mValueError\u001b[0m                                Traceback (most recent call last)",
      "\u001b[1;32m<ipython-input-65-8fe6543e0936>\u001b[0m in \u001b[0;36m<module>\u001b[1;34m\u001b[0m\n\u001b[0;32m      1\u001b[0m history = dlob_model.fit(np.expand_dims(train_x, axis=3), train_y, batch_size=256, epochs=20, \n\u001b[0;32m      2\u001b[0m                          validation_data=(np.expand_dims(val_x, axis=3), val_y), callbacks=train_callbacks)\n\u001b[1;32m----> 3\u001b[1;33m \u001b[0mtrain_score\u001b[0m\u001b[1;33m,\u001b[0m \u001b[0mval_score\u001b[0m\u001b[1;33m,\u001b[0m \u001b[0mtest_score\u001b[0m \u001b[1;33m=\u001b[0m \u001b[0mmodel_score\u001b[0m\u001b[1;33m(\u001b[0m\u001b[0mmodel\u001b[0m\u001b[1;33m,\u001b[0m \u001b[0mtrain_x\u001b[0m\u001b[1;33m,\u001b[0m \u001b[0mtrain_y\u001b[0m\u001b[1;33m,\u001b[0m \u001b[0mval_x\u001b[0m\u001b[1;33m,\u001b[0m \u001b[0mval_y\u001b[0m\u001b[1;33m,\u001b[0m \u001b[0mtest_x\u001b[0m\u001b[1;33m,\u001b[0m \u001b[0mtest_y\u001b[0m\u001b[1;33m)\u001b[0m\u001b[1;33m\u001b[0m\u001b[0m\n\u001b[0m",
      "\u001b[1;32mK:\\BIGCAT\\Projects\\Finance\\xtc\\main.py\u001b[0m in \u001b[0;36mmodel_score\u001b[1;34m(model, train_x, train_y, val_x, val_y, test_x, test_y)\u001b[0m\n\u001b[0;32m     27\u001b[0m     \u001b[0mscores\u001b[0m \u001b[1;33m=\u001b[0m \u001b[1;33m[\u001b[0m\u001b[1;33m]\u001b[0m\u001b[1;33m\u001b[0m\u001b[0m\n\u001b[0;32m     28\u001b[0m     \u001b[1;32mfor\u001b[0m \u001b[0mx\u001b[0m\u001b[1;33m,\u001b[0m \u001b[0my\u001b[0m\u001b[1;33m,\u001b[0m \u001b[0ms\u001b[0m \u001b[1;32min\u001b[0m \u001b[0mzip\u001b[0m\u001b[1;33m(\u001b[0m\u001b[1;33m[\u001b[0m\u001b[0mtrain_x\u001b[0m\u001b[1;33m,\u001b[0m \u001b[0mval_x\u001b[0m\u001b[1;33m,\u001b[0m \u001b[0mtest_x\u001b[0m\u001b[1;33m]\u001b[0m\u001b[1;33m,\u001b[0m \u001b[1;33m[\u001b[0m\u001b[0mtrain_y\u001b[0m\u001b[1;33m,\u001b[0m \u001b[0mval_y\u001b[0m\u001b[1;33m,\u001b[0m \u001b[0mtest_y\u001b[0m\u001b[1;33m]\u001b[0m\u001b[1;33m,\u001b[0m \u001b[1;33m[\u001b[0m\u001b[1;34m'train'\u001b[0m\u001b[1;33m,\u001b[0m \u001b[1;34m'val'\u001b[0m\u001b[1;33m,\u001b[0m \u001b[1;34m'test'\u001b[0m\u001b[1;33m]\u001b[0m\u001b[1;33m)\u001b[0m\u001b[1;33m:\u001b[0m\u001b[1;33m\u001b[0m\u001b[0m\n\u001b[1;32m---> 29\u001b[1;33m         \u001b[0mpred\u001b[0m \u001b[1;33m=\u001b[0m \u001b[0mmodel\u001b[0m\u001b[1;33m.\u001b[0m\u001b[0mpredict\u001b[0m\u001b[1;33m(\u001b[0m\u001b[0mx\u001b[0m\u001b[1;33m,\u001b[0m \u001b[0mbatch_size\u001b[0m\u001b[1;33m=\u001b[0m\u001b[1;36m512\u001b[0m\u001b[1;33m,\u001b[0m \u001b[0mverbose\u001b[0m\u001b[1;33m=\u001b[0m\u001b[1;36m1\u001b[0m\u001b[1;33m)\u001b[0m\u001b[1;33m\u001b[0m\u001b[0m\n\u001b[0m\u001b[0;32m     30\u001b[0m         \u001b[0mscores\u001b[0m\u001b[1;33m.\u001b[0m\u001b[0mappend\u001b[0m\u001b[1;33m(\u001b[0m\u001b[0mscore\u001b[0m\u001b[1;33m(\u001b[0m\u001b[0my\u001b[0m\u001b[1;33m,\u001b[0m \u001b[0mpred\u001b[0m\u001b[1;33m)\u001b[0m\u001b[1;33m)\u001b[0m\u001b[1;33m\u001b[0m\u001b[0m\n\u001b[0;32m     31\u001b[0m         \u001b[0mprint\u001b[0m\u001b[1;33m(\u001b[0m\u001b[1;34m'{} score: {:.5f}'\u001b[0m\u001b[1;33m.\u001b[0m\u001b[0mformat\u001b[0m\u001b[1;33m(\u001b[0m\u001b[0ms\u001b[0m\u001b[1;33m,\u001b[0m \u001b[0mscores\u001b[0m\u001b[1;33m[\u001b[0m\u001b[1;33m-\u001b[0m\u001b[1;36m1\u001b[0m\u001b[1;33m]\u001b[0m\u001b[1;33m)\u001b[0m\u001b[1;33m)\u001b[0m\u001b[1;33m\u001b[0m\u001b[0m\n",
      "\u001b[1;32m~\\Anaconda3\\lib\\site-packages\\keras-2.2.4-py3.6.egg\\keras\\engine\\training.py\u001b[0m in \u001b[0;36mpredict\u001b[1;34m(self, x, batch_size, verbose, steps)\u001b[0m\n\u001b[0;32m   1148\u001b[0m                              'argument.')\n\u001b[0;32m   1149\u001b[0m         \u001b[1;31m# Validate user data.\u001b[0m\u001b[1;33m\u001b[0m\u001b[1;33m\u001b[0m\u001b[0m\n\u001b[1;32m-> 1150\u001b[1;33m         \u001b[0mx\u001b[0m\u001b[1;33m,\u001b[0m \u001b[0m_\u001b[0m\u001b[1;33m,\u001b[0m \u001b[0m_\u001b[0m \u001b[1;33m=\u001b[0m \u001b[0mself\u001b[0m\u001b[1;33m.\u001b[0m\u001b[0m_standardize_user_data\u001b[0m\u001b[1;33m(\u001b[0m\u001b[0mx\u001b[0m\u001b[1;33m)\u001b[0m\u001b[1;33m\u001b[0m\u001b[0m\n\u001b[0m\u001b[0;32m   1151\u001b[0m         \u001b[1;32mif\u001b[0m \u001b[0mself\u001b[0m\u001b[1;33m.\u001b[0m\u001b[0mstateful\u001b[0m\u001b[1;33m:\u001b[0m\u001b[1;33m\u001b[0m\u001b[0m\n\u001b[0;32m   1152\u001b[0m             \u001b[1;32mif\u001b[0m \u001b[0mx\u001b[0m\u001b[1;33m[\u001b[0m\u001b[1;36m0\u001b[0m\u001b[1;33m]\u001b[0m\u001b[1;33m.\u001b[0m\u001b[0mshape\u001b[0m\u001b[1;33m[\u001b[0m\u001b[1;36m0\u001b[0m\u001b[1;33m]\u001b[0m \u001b[1;33m>\u001b[0m \u001b[0mbatch_size\u001b[0m \u001b[1;32mand\u001b[0m \u001b[0mx\u001b[0m\u001b[1;33m[\u001b[0m\u001b[1;36m0\u001b[0m\u001b[1;33m]\u001b[0m\u001b[1;33m.\u001b[0m\u001b[0mshape\u001b[0m\u001b[1;33m[\u001b[0m\u001b[1;36m0\u001b[0m\u001b[1;33m]\u001b[0m \u001b[1;33m%\u001b[0m \u001b[0mbatch_size\u001b[0m \u001b[1;33m!=\u001b[0m \u001b[1;36m0\u001b[0m\u001b[1;33m:\u001b[0m\u001b[1;33m\u001b[0m\u001b[0m\n",
      "\u001b[1;32m~\\Anaconda3\\lib\\site-packages\\keras-2.2.4-py3.6.egg\\keras\\engine\\training.py\u001b[0m in \u001b[0;36m_standardize_user_data\u001b[1;34m(self, x, y, sample_weight, class_weight, check_array_lengths, batch_size)\u001b[0m\n\u001b[0;32m    749\u001b[0m             \u001b[0mfeed_input_shapes\u001b[0m\u001b[1;33m,\u001b[0m\u001b[1;33m\u001b[0m\u001b[0m\n\u001b[0;32m    750\u001b[0m             \u001b[0mcheck_batch_axis\u001b[0m\u001b[1;33m=\u001b[0m\u001b[1;32mFalse\u001b[0m\u001b[1;33m,\u001b[0m  \u001b[1;31m# Don't enforce the batch size.\u001b[0m\u001b[1;33m\u001b[0m\u001b[0m\n\u001b[1;32m--> 751\u001b[1;33m             exception_prefix='input')\n\u001b[0m\u001b[0;32m    752\u001b[0m \u001b[1;33m\u001b[0m\u001b[0m\n\u001b[0;32m    753\u001b[0m         \u001b[1;32mif\u001b[0m \u001b[0my\u001b[0m \u001b[1;32mis\u001b[0m \u001b[1;32mnot\u001b[0m \u001b[1;32mNone\u001b[0m\u001b[1;33m:\u001b[0m\u001b[1;33m\u001b[0m\u001b[0m\n",
      "\u001b[1;32m~\\Anaconda3\\lib\\site-packages\\keras-2.2.4-py3.6.egg\\keras\\engine\\training_utils.py\u001b[0m in \u001b[0;36mstandardize_input_data\u001b[1;34m(data, names, shapes, check_batch_axis, exception_prefix)\u001b[0m\n\u001b[0;32m    137\u001b[0m                             \u001b[1;34m': expected '\u001b[0m \u001b[1;33m+\u001b[0m \u001b[0mnames\u001b[0m\u001b[1;33m[\u001b[0m\u001b[0mi\u001b[0m\u001b[1;33m]\u001b[0m \u001b[1;33m+\u001b[0m \u001b[1;34m' to have shape '\u001b[0m \u001b[1;33m+\u001b[0m\u001b[1;33m\u001b[0m\u001b[0m\n\u001b[0;32m    138\u001b[0m                             \u001b[0mstr\u001b[0m\u001b[1;33m(\u001b[0m\u001b[0mshape\u001b[0m\u001b[1;33m)\u001b[0m \u001b[1;33m+\u001b[0m \u001b[1;34m' but got array with shape '\u001b[0m \u001b[1;33m+\u001b[0m\u001b[1;33m\u001b[0m\u001b[0m\n\u001b[1;32m--> 139\u001b[1;33m                             str(data_shape))\n\u001b[0m\u001b[0;32m    140\u001b[0m     \u001b[1;32mreturn\u001b[0m \u001b[0mdata\u001b[0m\u001b[1;33m\u001b[0m\u001b[0m\n\u001b[0;32m    141\u001b[0m \u001b[1;33m\u001b[0m\u001b[0m\n",
      "\u001b[1;31mValueError\u001b[0m: Error when checking input: expected input_1 to have shape (15, 60) but got array with shape (30, 60)"
     ]
    }
   ],
   "source": [
    "history = dlob_model.fit(np.expand_dims(train_x, axis=3), train_y, batch_size=256, epochs=20, \n",
    "                         validation_data=(np.expand_dims(val_x, axis=3), val_y), callbacks=train_callbacks)\n",
    "train_score, val_score, test_score = model_score(dlob_model, train_x, train_y, val_x, val_y, test_x, test_y)"
   ]
  },
  {
   "cell_type": "markdown",
   "metadata": {},
   "source": [
    "## 4. evaluation"
   ]
  },
  {
   "cell_type": "markdown",
   "metadata": {},
   "source": [
    "### sign & mlp"
   ]
  },
  {
   "cell_type": "code",
   "execution_count": null,
   "metadata": {},
   "outputs": [],
   "source": [
    "# value\n",
    "train_y_pred = model.predict(rates_sizes_split(train_x), batch_size=512, verbose=1)\n",
    "test_y_pred = model.predict(rates_sizes_split(test_x), batch_size=512, verbose=1)\n",
    "\n",
    "# sign\n",
    "train_pred_sign = sign_model.predict(rates_sizes_split(train_x), batch_size=512, verbose=1)\n",
    "test_pred_sign = sign_model.predict(rates_sizes_split(train_x), batch_size=512, verbose=1)\n"
   ]
  },
  {
   "cell_type": "code",
   "execution_count": 213,
   "metadata": {},
   "outputs": [
    {
     "name": "stdout",
     "output_type": "stream",
     "text": [
      "359998/359998 [==============================] - 4s 11us/step\n",
      "train score: 0.05142\n",
      "180000/180000 [==============================] - 2s 11us/step\n",
      "test score: 0.53956\n"
     ]
    }
   ],
   "source": [
    "train_score = score(train_y, train_y_pred[:, 0] * np.sign(np.random.rand(359998)-0.28) * np.sign(train_y+1e-3))\n",
    "print('train score: {:.5f}'.format(train_score))\n",
    "\n",
    "\n",
    "test_score = score(test_y, test_y_pred[:, 0] * np.sign(np.random.rand(180000)) * np.sign(test_y+1e-3))\n",
    "print('test score: {:.5f}'.format(test_score))"
   ]
  },
  {
   "cell_type": "code",
   "execution_count": 172,
   "metadata": {},
   "outputs": [
    {
     "data": {
      "image/png": "[encoded data removed]",
      "text/plain": [
       "<Figure size 432x288 with 1 Axes>"
      ]
     },
     "metadata": {
      "needs_background": "light"
     },
     "output_type": "display_data"
    }
   ],
   "source": [
    "sns.distplot(train_y, kde=False)\n",
    "sns.distplot(train_y_pred, kde=False)\n",
    "plt.show()"
   ]
  },
  {
   "cell_type": "code",
   "execution_count": 156,
   "metadata": {},
   "outputs": [
    {
     "name": "stdout",
     "output_type": "stream",
     "text": [
      "359998/359998 [==============================] - 8s 23us/step\n",
      "train score: 0.05221\n",
      "180000/180000 [==============================] - 4s 21us/step\n",
      "test score: 0.00580\n"
     ]
    }
   ],
   "source": [
    "train_score, test_score = model_score(model, rates_sizes_split(train_x), train_y, rates_sizes_split(test_x), test_y)"
   ]
  },
  {
   "cell_type": "markdown",
   "metadata": {},
   "source": [
    "## matching"
   ]
  },
  {
   "cell_type": "code",
   "execution_count": 140,
   "metadata": {},
   "outputs": [
    {
     "name": "stdout",
     "output_type": "stream",
     "text": [
      "train:359985, val:59998, test:179993\n"
     ]
    }
   ],
   "source": [
    "time_step = 120\n",
    "(train_x, train_y), (val_x, val_y), (test_x, test_y) = dt.dataset_slide_norm(time_step=time_step, norm_window_size=60)"
   ]
  },
  {
   "cell_type": "code",
   "execution_count": 141,
   "metadata": {},
   "outputs": [],
   "source": [
    "_train_x = np.copy(train_x[::5])\n",
    "_train_y = np.copy(train_y[::5])\n",
    "_train_x_pos = _train_x[_train_y > 0]\n",
    "_train_x_neg = _train_x[_train_y < 0]"
   ]
  },
  {
   "cell_type": "code",
   "execution_count": 149,
   "metadata": {},
   "outputs": [],
   "source": [
    "_trainx_rate_pos = np.concatenate([_train_x_pos[..., :15], _train_x_pos[..., 30:45]], axis=2).reshape((_train_x_pos.shape[0],-1))\n",
    "_trainx_rate_neg = np.concatenate([_train_x_neg[..., :15], _train_x_neg[..., 30:45]], axis=2).reshape((_train_x_neg.shape[0],-1))"
   ]
  },
  {
   "cell_type": "code",
   "execution_count": 150,
   "metadata": {},
   "outputs": [],
   "source": [
    "neg_score = np.dot(_trainx_rate_neg, _trainx_rate_neg[::10].transpose([1,0]))\n",
    "pos_score = np.dot(_trainx_rate_pos, _trainx_rate_neg[::10].transpose([1,0]))"
   ]
  },
  {
   "cell_type": "code",
   "execution_count": 154,
   "metadata": {},
   "outputs": [
    {
     "data": {
      "text/plain": [
       "(29546, 3600)"
      ]
     },
     "execution_count": 154,
     "metadata": {},
     "output_type": "execute_result"
    }
   ],
   "source": [
    "_trainx_rate_pos.shape"
   ]
  },
  {
   "cell_type": "code",
   "execution_count": 152,
   "metadata": {},
   "outputs": [
    {
     "data": {
      "text/plain": [
       "1450"
      ]
     },
     "execution_count": 152,
     "metadata": {},
     "output_type": "execute_result"
    }
   ],
   "source": [
    "mean_neg_score = np.mean(neg_score, axis=0)\n",
    "mean_pos_score = np.mean(pos_score, axis=0)\n",
    "np.sum(np.mean(neg_score, axis=0) > np.mean(pos_score, axis=0))"
   ]
  },
  {
   "cell_type": "code",
   "execution_count": 145,
   "metadata": {},
   "outputs": [
    {
     "data": {
      "image/png": "[encoded data removed]",
      "text/plain": [
       "<Figure size 1080x432 with 1 Axes>"
      ]
     },
     "metadata": {
      "needs_background": "light"
     },
     "output_type": "display_data"
    }
   ],
   "source": [
    "plt.rcParams['figure.figsize'] = (15.0, 6.0)\n",
    "plt.plot(mean_neg_score[:100], label='neg')\n",
    "plt.plot(mean_pos_score[:100], label='pos')\n",
    "plt.legend()\n",
    "plt.show()"
   ]
  },
  {
   "cell_type": "code",
   "execution_count": 105,
   "metadata": {},
   "outputs": [
    {
     "data": {
      "image/png": "[encoded data removed]",
      "text/plain": [
       "<Figure size 432x288 with 1 Axes>"
      ]
     },
     "metadata": {
      "needs_background": "light"
     },
     "output_type": "display_data"
    }
   ],
   "source": [
    "sns.distplot(train_y[::5], kde=False, norm_hist=True)\n",
    "plt.show()"
   ]
  },
  {
   "cell_type": "markdown",
   "metadata": {},
   "source": [
    "## hyper parameters search"
   ]
  },
  {
   "cell_type": "code",
   "execution_count": null,
   "metadata": {},
   "outputs": [],
   "source": [
    "time_step = [5, 10, 20, 30, 60, 90, 120, 240, 360]\n",
    "norm_window = [30, 60, 120, 360]\n",
    "learning_rate = [2e-4, 3e-4, 5e-4, 8e-4, 1e-3]\n"
   ]
  }
 ],
 "metadata": {
  "kernelspec": {
   "display_name": "Python 3",
   "language": "python",
   "name": "python3"
  },
  "language_info": {
   "codemirror_mode": {
    "name": "ipython",
    "version": 3
   },
   "file_extension": ".py",
   "mimetype": "text/x-python",
   "name": "python",
   "nbconvert_exporter": "python",
   "pygments_lexer": "ipython3",
   "version": "3.6.6"
  }
 },
 "nbformat": 4,
 "nbformat_minor": 2
}
